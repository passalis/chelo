{
 "cells": [
  {
   "metadata": {},
   "cell_type": "markdown",
   "source": "# Surrogate Modelling and Optimization",
   "id": "eb28f08990e34893"
  },
  {
   "metadata": {},
   "cell_type": "markdown",
   "source": [
    "\n",
    "### 1. Loading a dataset\n",
    "\n",
    "Data for building a surrogate can come from different sources. \n",
    "You need to export them in a format that can be subsequently easily read.\n",
    "This can be CSV or excel format."
   ],
   "id": "31bed7294543e33e"
  },
  {
   "metadata": {},
   "cell_type": "markdown",
   "source": "*pandas* provides an easy to load and handle such datasets.",
   "id": "7d9725c3fa82125d"
  },
  {
   "metadata": {
    "ExecuteTime": {
     "end_time": "2025-01-27T11:56:45.854210Z",
     "start_time": "2025-01-27T11:56:45.798183Z"
    }
   },
   "cell_type": "code",
   "source": [
    "from chelo.datasets import CoalFiredPlantDataset\n",
    "\n",
    "coal_dataset = CoalFiredPlantDataset()\n",
    "coal_dataset.load_data()\n",
    "\n",
    "df = coal_dataset.to_pandas()"
   ],
   "id": "ffde462db166cf42",
   "outputs": [],
   "execution_count": 5
  },
  {
   "metadata": {},
   "cell_type": "markdown",
   "source": "",
   "id": "44b42d41378ed4c0"
  },
  {
   "metadata": {
    "ExecuteTime": {
     "end_time": "2025-01-27T11:56:45.859011Z",
     "start_time": "2025-01-27T11:56:45.856727Z"
    }
   },
   "cell_type": "code",
   "source": "df = df.dropna()",
   "id": "f85c15d8f9526e8f",
   "outputs": [],
   "execution_count": 6
  },
  {
   "metadata": {
    "ExecuteTime": {
     "end_time": "2025-01-27T11:56:45.877725Z",
     "start_time": "2025-01-27T11:56:45.868531Z"
    }
   },
   "cell_type": "code",
   "source": "df.head()",
   "id": "349e1dedc532ca3e",
   "outputs": [
    {
     "data": {
      "text/plain": [
       "   Main steam flow (t/h)  Main steam temperature (boiler side) (℃)  \\\n",
       "0             829.895767                                566.840549   \n",
       "1             836.935916                                566.881735   \n",
       "2             828.634270                                567.291646   \n",
       "3             830.700920                                566.777897   \n",
       "4             840.836756                                566.164801   \n",
       "\n",
       "   Main steam pressure (boiler side) (Mpa)  \\\n",
       "0                                14.459605   \n",
       "1                                14.382862   \n",
       "2                                14.598511   \n",
       "3                                14.672297   \n",
       "4                                14.718665   \n",
       "\n",
       "   Reheat steam temperature (boiler side) (℃)  \\\n",
       "0                                  565.474815   \n",
       "1                                  564.155584   \n",
       "2                                  565.344131   \n",
       "3                                  564.914579   \n",
       "4                                  564.701515   \n",
       "\n",
       "   Superheater desuperheating water flow (t/h)  \\\n",
       "0                                    90.976032   \n",
       "1                                    86.844876   \n",
       "2                                    82.290412   \n",
       "3                                    66.461621   \n",
       "4                                    85.227666   \n",
       "\n",
       "   Reheater desuperheating water flow (t/h)  Feedwater temperature (℃)  \\\n",
       "0                                  2.016360                 230.481989   \n",
       "1                                  6.940147                 230.774681   \n",
       "2                                  2.826383                 230.406344   \n",
       "3                                  4.887414                 230.403508   \n",
       "4                                  1.688371                 230.921149   \n",
       "\n",
       "   Feedwater flow (t/h)  Flue gas temperature (℃)  Boiler oxygen level (%)  \\\n",
       "0            837.281693                125.732829                 4.514952   \n",
       "1            839.599386                128.302361                 4.398095   \n",
       "2            838.675835                126.813926                 4.545360   \n",
       "3            833.893038                125.703665                 4.357049   \n",
       "4            846.458445                123.795018                 4.378293   \n",
       "\n",
       "   ...  Corrected Flue Gas Out Temperature (°C)  APH Effectiveness (%)  \\\n",
       "0  ...                               128.685541              69.993690   \n",
       "1  ...                               131.272824              69.626696   \n",
       "2  ...                               130.195594              69.703097   \n",
       "3  ...                               129.588421              70.127871   \n",
       "4  ...                               127.622627              70.946455   \n",
       "\n",
       "   Coal Flow (t/h)  Energy Input From Boiler (Kcal/h)  NTHR (Kcal/Kwh)  \\\n",
       "0          169.409                        721343522.0      2587.779451   \n",
       "1          167.379                        712699782.0      2528.380098   \n",
       "2          164.882                        702067556.0      2522.247372   \n",
       "3          163.784                        697392272.0      2508.605295   \n",
       "4          170.533                        726129514.0      2582.803991   \n",
       "\n",
       "   NPHR (Kcal/Kwh)  Gross Load (MW)  Nett Load (MW)  HHV (Kcal/Kg)  \\\n",
       "0      2767.382581           294.35          278.75         4258.0   \n",
       "1      2704.439082           297.41          281.88         4258.0   \n",
       "2      2697.590772           294.11          278.35         4258.0   \n",
       "3      2684.435843           294.01          278.00         4258.0   \n",
       "4      2756.461036           297.75          281.14         4258.0   \n",
       "\n",
       "   Boiler Eff (%)  \n",
       "0           93.51  \n",
       "1           93.49  \n",
       "2           93.50  \n",
       "3           93.45  \n",
       "4           93.70  \n",
       "\n",
       "[5 rows x 54 columns]"
      ],
      "text/html": [
       "<div>\n",
       "<style scoped>\n",
       "    .dataframe tbody tr th:only-of-type {\n",
       "        vertical-align: middle;\n",
       "    }\n",
       "\n",
       "    .dataframe tbody tr th {\n",
       "        vertical-align: top;\n",
       "    }\n",
       "\n",
       "    .dataframe thead th {\n",
       "        text-align: right;\n",
       "    }\n",
       "</style>\n",
       "<table border=\"1\" class=\"dataframe\">\n",
       "  <thead>\n",
       "    <tr style=\"text-align: right;\">\n",
       "      <th></th>\n",
       "      <th>Main steam flow (t/h)</th>\n",
       "      <th>Main steam temperature (boiler side) (℃)</th>\n",
       "      <th>Main steam pressure (boiler side) (Mpa)</th>\n",
       "      <th>Reheat steam temperature (boiler side) (℃)</th>\n",
       "      <th>Superheater desuperheating water flow (t/h)</th>\n",
       "      <th>Reheater desuperheating water flow (t/h)</th>\n",
       "      <th>Feedwater temperature (℃)</th>\n",
       "      <th>Feedwater flow (t/h)</th>\n",
       "      <th>Flue gas temperature (℃)</th>\n",
       "      <th>Boiler oxygen level (%)</th>\n",
       "      <th>...</th>\n",
       "      <th>Corrected Flue Gas Out Temperature (°C)</th>\n",
       "      <th>APH Effectiveness (%)</th>\n",
       "      <th>Coal Flow (t/h)</th>\n",
       "      <th>Energy Input From Boiler (Kcal/h)</th>\n",
       "      <th>NTHR (Kcal/Kwh)</th>\n",
       "      <th>NPHR (Kcal/Kwh)</th>\n",
       "      <th>Gross Load (MW)</th>\n",
       "      <th>Nett Load (MW)</th>\n",
       "      <th>HHV (Kcal/Kg)</th>\n",
       "      <th>Boiler Eff (%)</th>\n",
       "    </tr>\n",
       "  </thead>\n",
       "  <tbody>\n",
       "    <tr>\n",
       "      <th>0</th>\n",
       "      <td>829.895767</td>\n",
       "      <td>566.840549</td>\n",
       "      <td>14.459605</td>\n",
       "      <td>565.474815</td>\n",
       "      <td>90.976032</td>\n",
       "      <td>2.016360</td>\n",
       "      <td>230.481989</td>\n",
       "      <td>837.281693</td>\n",
       "      <td>125.732829</td>\n",
       "      <td>4.514952</td>\n",
       "      <td>...</td>\n",
       "      <td>128.685541</td>\n",
       "      <td>69.993690</td>\n",
       "      <td>169.409</td>\n",
       "      <td>721343522.0</td>\n",
       "      <td>2587.779451</td>\n",
       "      <td>2767.382581</td>\n",
       "      <td>294.35</td>\n",
       "      <td>278.75</td>\n",
       "      <td>4258.0</td>\n",
       "      <td>93.51</td>\n",
       "    </tr>\n",
       "    <tr>\n",
       "      <th>1</th>\n",
       "      <td>836.935916</td>\n",
       "      <td>566.881735</td>\n",
       "      <td>14.382862</td>\n",
       "      <td>564.155584</td>\n",
       "      <td>86.844876</td>\n",
       "      <td>6.940147</td>\n",
       "      <td>230.774681</td>\n",
       "      <td>839.599386</td>\n",
       "      <td>128.302361</td>\n",
       "      <td>4.398095</td>\n",
       "      <td>...</td>\n",
       "      <td>131.272824</td>\n",
       "      <td>69.626696</td>\n",
       "      <td>167.379</td>\n",
       "      <td>712699782.0</td>\n",
       "      <td>2528.380098</td>\n",
       "      <td>2704.439082</td>\n",
       "      <td>297.41</td>\n",
       "      <td>281.88</td>\n",
       "      <td>4258.0</td>\n",
       "      <td>93.49</td>\n",
       "    </tr>\n",
       "    <tr>\n",
       "      <th>2</th>\n",
       "      <td>828.634270</td>\n",
       "      <td>567.291646</td>\n",
       "      <td>14.598511</td>\n",
       "      <td>565.344131</td>\n",
       "      <td>82.290412</td>\n",
       "      <td>2.826383</td>\n",
       "      <td>230.406344</td>\n",
       "      <td>838.675835</td>\n",
       "      <td>126.813926</td>\n",
       "      <td>4.545360</td>\n",
       "      <td>...</td>\n",
       "      <td>130.195594</td>\n",
       "      <td>69.703097</td>\n",
       "      <td>164.882</td>\n",
       "      <td>702067556.0</td>\n",
       "      <td>2522.247372</td>\n",
       "      <td>2697.590772</td>\n",
       "      <td>294.11</td>\n",
       "      <td>278.35</td>\n",
       "      <td>4258.0</td>\n",
       "      <td>93.50</td>\n",
       "    </tr>\n",
       "    <tr>\n",
       "      <th>3</th>\n",
       "      <td>830.700920</td>\n",
       "      <td>566.777897</td>\n",
       "      <td>14.672297</td>\n",
       "      <td>564.914579</td>\n",
       "      <td>66.461621</td>\n",
       "      <td>4.887414</td>\n",
       "      <td>230.403508</td>\n",
       "      <td>833.893038</td>\n",
       "      <td>125.703665</td>\n",
       "      <td>4.357049</td>\n",
       "      <td>...</td>\n",
       "      <td>129.588421</td>\n",
       "      <td>70.127871</td>\n",
       "      <td>163.784</td>\n",
       "      <td>697392272.0</td>\n",
       "      <td>2508.605295</td>\n",
       "      <td>2684.435843</td>\n",
       "      <td>294.01</td>\n",
       "      <td>278.00</td>\n",
       "      <td>4258.0</td>\n",
       "      <td>93.45</td>\n",
       "    </tr>\n",
       "    <tr>\n",
       "      <th>4</th>\n",
       "      <td>840.836756</td>\n",
       "      <td>566.164801</td>\n",
       "      <td>14.718665</td>\n",
       "      <td>564.701515</td>\n",
       "      <td>85.227666</td>\n",
       "      <td>1.688371</td>\n",
       "      <td>230.921149</td>\n",
       "      <td>846.458445</td>\n",
       "      <td>123.795018</td>\n",
       "      <td>4.378293</td>\n",
       "      <td>...</td>\n",
       "      <td>127.622627</td>\n",
       "      <td>70.946455</td>\n",
       "      <td>170.533</td>\n",
       "      <td>726129514.0</td>\n",
       "      <td>2582.803991</td>\n",
       "      <td>2756.461036</td>\n",
       "      <td>297.75</td>\n",
       "      <td>281.14</td>\n",
       "      <td>4258.0</td>\n",
       "      <td>93.70</td>\n",
       "    </tr>\n",
       "  </tbody>\n",
       "</table>\n",
       "<p>5 rows × 54 columns</p>\n",
       "</div>"
      ]
     },
     "execution_count": 7,
     "metadata": {},
     "output_type": "execute_result"
    }
   ],
   "execution_count": 7
  },
  {
   "metadata": {},
   "cell_type": "markdown",
   "source": "Let's examine the loaded dataset",
   "id": "bb351a3a5153f83b"
  },
  {
   "metadata": {
    "ExecuteTime": {
     "end_time": "2025-01-27T11:56:45.949932Z",
     "start_time": "2025-01-27T11:56:45.913210Z"
    }
   },
   "cell_type": "code",
   "source": "df.describe()",
   "id": "56449c10a9be70a2",
   "outputs": [
    {
     "data": {
      "text/plain": [
       "       Main steam flow (t/h)  Main steam temperature (boiler side) (℃)  \\\n",
       "count              91.000000                                 91.000000   \n",
       "mean              830.128089                                567.208245   \n",
       "std                 8.775377                                  1.041779   \n",
       "min               811.940809                                565.265320   \n",
       "25%               825.013894                                566.508984   \n",
       "50%               830.706785                                567.058950   \n",
       "75%               836.174335                                567.854178   \n",
       "max               850.333115                                569.370906   \n",
       "\n",
       "       Main steam pressure (boiler side) (Mpa)  \\\n",
       "count                                91.000000   \n",
       "mean                                 14.273860   \n",
       "std                                   0.220480   \n",
       "min                                  13.889091   \n",
       "25%                                  14.130227   \n",
       "50%                                  14.218129   \n",
       "75%                                  14.388993   \n",
       "max                                  14.956929   \n",
       "\n",
       "       Reheat steam temperature (boiler side) (℃)  \\\n",
       "count                                   91.000000   \n",
       "mean                                   565.596933   \n",
       "std                                      0.898479   \n",
       "min                                    563.538996   \n",
       "25%                                    564.946753   \n",
       "50%                                    565.648387   \n",
       "75%                                    566.358144   \n",
       "max                                    567.468938   \n",
       "\n",
       "       Superheater desuperheating water flow (t/h)  \\\n",
       "count                                    91.000000   \n",
       "mean                                     81.750911   \n",
       "std                                      11.134714   \n",
       "min                                      54.370844   \n",
       "25%                                      74.354753   \n",
       "50%                                      82.386200   \n",
       "75%                                      88.332545   \n",
       "max                                     111.493547   \n",
       "\n",
       "       Reheater desuperheating water flow (t/h)  Feedwater temperature (℃)  \\\n",
       "count                                 91.000000                  91.000000   \n",
       "mean                                   2.740714                 235.272934   \n",
       "std                                    1.907430                   8.403216   \n",
       "min                                    0.005893                 228.966755   \n",
       "25%                                    1.502346                 229.761408   \n",
       "50%                                    2.275165                 230.423365   \n",
       "75%                                    3.641383                 248.031783   \n",
       "max                                    7.994769                 250.226514   \n",
       "\n",
       "       Feedwater flow (t/h)  Flue gas temperature (℃)  \\\n",
       "count             91.000000                 91.000000   \n",
       "mean             833.930205                122.967104   \n",
       "std               14.070682                  2.186039   \n",
       "min              808.805537                116.354097   \n",
       "25%              821.429174                121.493550   \n",
       "50%              836.965833                122.472321   \n",
       "75%              843.686058                123.901244   \n",
       "max              874.281227                129.970108   \n",
       "\n",
       "       Boiler oxygen level (%)  ...  Corrected Flue Gas Out Temperature (°C)  \\\n",
       "count                91.000000  ...                                91.000000   \n",
       "mean                  4.731106  ...                               124.935038   \n",
       "std                   0.232518  ...                                 2.329859   \n",
       "min                   4.225416  ...                               119.193870   \n",
       "25%                   4.545138  ...                               123.388225   \n",
       "50%                   4.713006  ...                               124.660898   \n",
       "75%                   4.952133  ...                               125.842149   \n",
       "max                   5.114665  ...                               132.840979   \n",
       "\n",
       "       APH Effectiveness (%)  Coal Flow (t/h)  \\\n",
       "count              91.000000        91.000000   \n",
       "mean               71.312423       167.206033   \n",
       "std                 0.697620         2.915344   \n",
       "min                68.762232       161.142000   \n",
       "25%                70.939537       164.956000   \n",
       "50%                71.388751       167.230000   \n",
       "75%                71.756368       169.463500   \n",
       "max                72.684261       173.565000   \n",
       "\n",
       "       Energy Input From Boiler (Kcal/h)  NTHR (Kcal/Kwh)  NPHR (Kcal/Kwh)  \\\n",
       "count                       9.100000e+01        91.000000        91.000000   \n",
       "mean                        7.111905e+08      2539.599983      2711.090544   \n",
       "std                         1.167010e+07        41.237212        43.182211   \n",
       "min                         6.883986e+08      2440.066591      2608.302075   \n",
       "25%                         7.029127e+08      2508.791936      2683.487341   \n",
       "50%                         7.106085e+08      2537.784246      2707.836370   \n",
       "75%                         7.192627e+08      2572.010869      2744.673721   \n",
       "max                         7.428582e+08      2650.509152      2826.004000   \n",
       "\n",
       "       Gross Load (MW)  Nett Load (MW)  HHV (Kcal/Kg)  Boiler Eff (%)  \n",
       "count        91.000000       91.000000      91.000000       91.000000  \n",
       "mean        296.339341      280.048462    4253.487500       93.674066  \n",
       "std           2.407323        2.242031      17.218291        0.095684  \n",
       "min         293.000000      272.850000    4215.000000       93.380000  \n",
       "25%         294.335000      278.545000    4244.288361       93.630000  \n",
       "50%         296.480000      279.800000    4248.000000       93.680000  \n",
       "75%         297.765000      281.470000    4272.000000       93.730000  \n",
       "max         306.580000      287.430000    4280.000000       94.000000  \n",
       "\n",
       "[8 rows x 54 columns]"
      ],
      "text/html": [
       "<div>\n",
       "<style scoped>\n",
       "    .dataframe tbody tr th:only-of-type {\n",
       "        vertical-align: middle;\n",
       "    }\n",
       "\n",
       "    .dataframe tbody tr th {\n",
       "        vertical-align: top;\n",
       "    }\n",
       "\n",
       "    .dataframe thead th {\n",
       "        text-align: right;\n",
       "    }\n",
       "</style>\n",
       "<table border=\"1\" class=\"dataframe\">\n",
       "  <thead>\n",
       "    <tr style=\"text-align: right;\">\n",
       "      <th></th>\n",
       "      <th>Main steam flow (t/h)</th>\n",
       "      <th>Main steam temperature (boiler side) (℃)</th>\n",
       "      <th>Main steam pressure (boiler side) (Mpa)</th>\n",
       "      <th>Reheat steam temperature (boiler side) (℃)</th>\n",
       "      <th>Superheater desuperheating water flow (t/h)</th>\n",
       "      <th>Reheater desuperheating water flow (t/h)</th>\n",
       "      <th>Feedwater temperature (℃)</th>\n",
       "      <th>Feedwater flow (t/h)</th>\n",
       "      <th>Flue gas temperature (℃)</th>\n",
       "      <th>Boiler oxygen level (%)</th>\n",
       "      <th>...</th>\n",
       "      <th>Corrected Flue Gas Out Temperature (°C)</th>\n",
       "      <th>APH Effectiveness (%)</th>\n",
       "      <th>Coal Flow (t/h)</th>\n",
       "      <th>Energy Input From Boiler (Kcal/h)</th>\n",
       "      <th>NTHR (Kcal/Kwh)</th>\n",
       "      <th>NPHR (Kcal/Kwh)</th>\n",
       "      <th>Gross Load (MW)</th>\n",
       "      <th>Nett Load (MW)</th>\n",
       "      <th>HHV (Kcal/Kg)</th>\n",
       "      <th>Boiler Eff (%)</th>\n",
       "    </tr>\n",
       "  </thead>\n",
       "  <tbody>\n",
       "    <tr>\n",
       "      <th>count</th>\n",
       "      <td>91.000000</td>\n",
       "      <td>91.000000</td>\n",
       "      <td>91.000000</td>\n",
       "      <td>91.000000</td>\n",
       "      <td>91.000000</td>\n",
       "      <td>91.000000</td>\n",
       "      <td>91.000000</td>\n",
       "      <td>91.000000</td>\n",
       "      <td>91.000000</td>\n",
       "      <td>91.000000</td>\n",
       "      <td>...</td>\n",
       "      <td>91.000000</td>\n",
       "      <td>91.000000</td>\n",
       "      <td>91.000000</td>\n",
       "      <td>9.100000e+01</td>\n",
       "      <td>91.000000</td>\n",
       "      <td>91.000000</td>\n",
       "      <td>91.000000</td>\n",
       "      <td>91.000000</td>\n",
       "      <td>91.000000</td>\n",
       "      <td>91.000000</td>\n",
       "    </tr>\n",
       "    <tr>\n",
       "      <th>mean</th>\n",
       "      <td>830.128089</td>\n",
       "      <td>567.208245</td>\n",
       "      <td>14.273860</td>\n",
       "      <td>565.596933</td>\n",
       "      <td>81.750911</td>\n",
       "      <td>2.740714</td>\n",
       "      <td>235.272934</td>\n",
       "      <td>833.930205</td>\n",
       "      <td>122.967104</td>\n",
       "      <td>4.731106</td>\n",
       "      <td>...</td>\n",
       "      <td>124.935038</td>\n",
       "      <td>71.312423</td>\n",
       "      <td>167.206033</td>\n",
       "      <td>7.111905e+08</td>\n",
       "      <td>2539.599983</td>\n",
       "      <td>2711.090544</td>\n",
       "      <td>296.339341</td>\n",
       "      <td>280.048462</td>\n",
       "      <td>4253.487500</td>\n",
       "      <td>93.674066</td>\n",
       "    </tr>\n",
       "    <tr>\n",
       "      <th>std</th>\n",
       "      <td>8.775377</td>\n",
       "      <td>1.041779</td>\n",
       "      <td>0.220480</td>\n",
       "      <td>0.898479</td>\n",
       "      <td>11.134714</td>\n",
       "      <td>1.907430</td>\n",
       "      <td>8.403216</td>\n",
       "      <td>14.070682</td>\n",
       "      <td>2.186039</td>\n",
       "      <td>0.232518</td>\n",
       "      <td>...</td>\n",
       "      <td>2.329859</td>\n",
       "      <td>0.697620</td>\n",
       "      <td>2.915344</td>\n",
       "      <td>1.167010e+07</td>\n",
       "      <td>41.237212</td>\n",
       "      <td>43.182211</td>\n",
       "      <td>2.407323</td>\n",
       "      <td>2.242031</td>\n",
       "      <td>17.218291</td>\n",
       "      <td>0.095684</td>\n",
       "    </tr>\n",
       "    <tr>\n",
       "      <th>min</th>\n",
       "      <td>811.940809</td>\n",
       "      <td>565.265320</td>\n",
       "      <td>13.889091</td>\n",
       "      <td>563.538996</td>\n",
       "      <td>54.370844</td>\n",
       "      <td>0.005893</td>\n",
       "      <td>228.966755</td>\n",
       "      <td>808.805537</td>\n",
       "      <td>116.354097</td>\n",
       "      <td>4.225416</td>\n",
       "      <td>...</td>\n",
       "      <td>119.193870</td>\n",
       "      <td>68.762232</td>\n",
       "      <td>161.142000</td>\n",
       "      <td>6.883986e+08</td>\n",
       "      <td>2440.066591</td>\n",
       "      <td>2608.302075</td>\n",
       "      <td>293.000000</td>\n",
       "      <td>272.850000</td>\n",
       "      <td>4215.000000</td>\n",
       "      <td>93.380000</td>\n",
       "    </tr>\n",
       "    <tr>\n",
       "      <th>25%</th>\n",
       "      <td>825.013894</td>\n",
       "      <td>566.508984</td>\n",
       "      <td>14.130227</td>\n",
       "      <td>564.946753</td>\n",
       "      <td>74.354753</td>\n",
       "      <td>1.502346</td>\n",
       "      <td>229.761408</td>\n",
       "      <td>821.429174</td>\n",
       "      <td>121.493550</td>\n",
       "      <td>4.545138</td>\n",
       "      <td>...</td>\n",
       "      <td>123.388225</td>\n",
       "      <td>70.939537</td>\n",
       "      <td>164.956000</td>\n",
       "      <td>7.029127e+08</td>\n",
       "      <td>2508.791936</td>\n",
       "      <td>2683.487341</td>\n",
       "      <td>294.335000</td>\n",
       "      <td>278.545000</td>\n",
       "      <td>4244.288361</td>\n",
       "      <td>93.630000</td>\n",
       "    </tr>\n",
       "    <tr>\n",
       "      <th>50%</th>\n",
       "      <td>830.706785</td>\n",
       "      <td>567.058950</td>\n",
       "      <td>14.218129</td>\n",
       "      <td>565.648387</td>\n",
       "      <td>82.386200</td>\n",
       "      <td>2.275165</td>\n",
       "      <td>230.423365</td>\n",
       "      <td>836.965833</td>\n",
       "      <td>122.472321</td>\n",
       "      <td>4.713006</td>\n",
       "      <td>...</td>\n",
       "      <td>124.660898</td>\n",
       "      <td>71.388751</td>\n",
       "      <td>167.230000</td>\n",
       "      <td>7.106085e+08</td>\n",
       "      <td>2537.784246</td>\n",
       "      <td>2707.836370</td>\n",
       "      <td>296.480000</td>\n",
       "      <td>279.800000</td>\n",
       "      <td>4248.000000</td>\n",
       "      <td>93.680000</td>\n",
       "    </tr>\n",
       "    <tr>\n",
       "      <th>75%</th>\n",
       "      <td>836.174335</td>\n",
       "      <td>567.854178</td>\n",
       "      <td>14.388993</td>\n",
       "      <td>566.358144</td>\n",
       "      <td>88.332545</td>\n",
       "      <td>3.641383</td>\n",
       "      <td>248.031783</td>\n",
       "      <td>843.686058</td>\n",
       "      <td>123.901244</td>\n",
       "      <td>4.952133</td>\n",
       "      <td>...</td>\n",
       "      <td>125.842149</td>\n",
       "      <td>71.756368</td>\n",
       "      <td>169.463500</td>\n",
       "      <td>7.192627e+08</td>\n",
       "      <td>2572.010869</td>\n",
       "      <td>2744.673721</td>\n",
       "      <td>297.765000</td>\n",
       "      <td>281.470000</td>\n",
       "      <td>4272.000000</td>\n",
       "      <td>93.730000</td>\n",
       "    </tr>\n",
       "    <tr>\n",
       "      <th>max</th>\n",
       "      <td>850.333115</td>\n",
       "      <td>569.370906</td>\n",
       "      <td>14.956929</td>\n",
       "      <td>567.468938</td>\n",
       "      <td>111.493547</td>\n",
       "      <td>7.994769</td>\n",
       "      <td>250.226514</td>\n",
       "      <td>874.281227</td>\n",
       "      <td>129.970108</td>\n",
       "      <td>5.114665</td>\n",
       "      <td>...</td>\n",
       "      <td>132.840979</td>\n",
       "      <td>72.684261</td>\n",
       "      <td>173.565000</td>\n",
       "      <td>7.428582e+08</td>\n",
       "      <td>2650.509152</td>\n",
       "      <td>2826.004000</td>\n",
       "      <td>306.580000</td>\n",
       "      <td>287.430000</td>\n",
       "      <td>4280.000000</td>\n",
       "      <td>94.000000</td>\n",
       "    </tr>\n",
       "  </tbody>\n",
       "</table>\n",
       "<p>8 rows × 54 columns</p>\n",
       "</div>"
      ]
     },
     "execution_count": 8,
     "metadata": {},
     "output_type": "execute_result"
    }
   ],
   "execution_count": 8
  },
  {
   "metadata": {},
   "cell_type": "markdown",
   "source": [
    "Let's select some features (system parameters) for building the surrogate.\n",
    "For this example we will use the following parameters:\n",
    "1. Main steam flow (t/h)\t\n",
    "2. Main steam temperature (boiler side) (℃)\t\n",
    "3. Main steam pressure (boiler side) (Mpa)\t\n",
    "4. Reheat steam temperature (boiler side) (℃)\t\n",
    "5. Superheater desuperheating water flow (t/h)\t\n",
    "6. Reheater desuperheating water flow (t/h)\t\n",
    "7. Feedwater temperature (℃)\t\n",
    "8. Feedwater flow (t/h)\t\n",
    "9. Flue gas temperature (℃)\t\n",
    "10. Boiler oxygen level (%)\t\n",
    "11. Main steam temperature (turbine side) (℃)\n",
    "12. Main steam pressure (turbine side) (MPa)\t\n",
    "13. Reheat steam temperature (turbine side) (℃)\t\n",
    "14. Reheat steam pressure (turbine side) (MPa)\t\n",
    "15. Control stage pressure (Mpa)\t\n",
    "16. High exhaust pressure (Mpa)\t\n",
    "17. Feedwater pressure (MPa)\t\n",
    "18. Condenser vacuum (kPa)\t\n",
    "19. Circulating water outlet temperature (℃)\n",
    "\n",
    "Outputs:\n",
    "1. Boiler Efficiency\n",
    "2. Nox (mg/m3)\n",
    "3. Dust (mg/m3)\n"
   ],
   "id": "82797e0b18131752"
  },
  {
   "metadata": {
    "ExecuteTime": {
     "end_time": "2025-01-27T11:56:46.009985Z",
     "start_time": "2025-01-27T11:56:46.004879Z"
    }
   },
   "cell_type": "code",
   "source": [
    "features = df.iloc[:, 2:21]\n",
    "print(features.head())"
   ],
   "id": "9d765beba716558d",
   "outputs": [
    {
     "name": "stdout",
     "output_type": "stream",
     "text": [
      "   Main steam pressure (boiler side) (Mpa)  \\\n",
      "0                                14.459605   \n",
      "1                                14.382862   \n",
      "2                                14.598511   \n",
      "3                                14.672297   \n",
      "4                                14.718665   \n",
      "\n",
      "   Reheat steam temperature (boiler side) (℃)  \\\n",
      "0                                  565.474815   \n",
      "1                                  564.155584   \n",
      "2                                  565.344131   \n",
      "3                                  564.914579   \n",
      "4                                  564.701515   \n",
      "\n",
      "   Superheater desuperheating water flow (t/h)  \\\n",
      "0                                    90.976032   \n",
      "1                                    86.844876   \n",
      "2                                    82.290412   \n",
      "3                                    66.461621   \n",
      "4                                    85.227666   \n",
      "\n",
      "   Reheater desuperheating water flow (t/h)  Feedwater temperature (℃)  \\\n",
      "0                                  2.016360                 230.481989   \n",
      "1                                  6.940147                 230.774681   \n",
      "2                                  2.826383                 230.406344   \n",
      "3                                  4.887414                 230.403508   \n",
      "4                                  1.688371                 230.921149   \n",
      "\n",
      "   Feedwater flow (t/h)  Flue gas temperature (℃)  Boiler oxygen level (%)  \\\n",
      "0            837.281693                125.732829                 4.514952   \n",
      "1            839.599386                128.302361                 4.398095   \n",
      "2            838.675835                126.813926                 4.545360   \n",
      "3            833.893038                125.703665                 4.357049   \n",
      "4            846.458445                123.795018                 4.378293   \n",
      "\n",
      "   Main steam temperature (turbine side) (℃)  \\\n",
      "0                                 564.388241   \n",
      "1                                 564.466986   \n",
      "2                                 565.130164   \n",
      "3                                 564.462516   \n",
      "4                                 563.796663   \n",
      "\n",
      "   Main steam pressure (turbine side) (MPa)  \\\n",
      "0                                 14.376631   \n",
      "1                                 14.294854   \n",
      "2                                 14.516321   \n",
      "3                                 14.595465   \n",
      "4                                 14.632376   \n",
      "\n",
      "   Reheat steam temperature (turbine side) (℃)  \\\n",
      "0                                   565.474815   \n",
      "1                                   564.155584   \n",
      "2                                   565.344131   \n",
      "3                                   564.914579   \n",
      "4                                   564.701515   \n",
      "\n",
      "   Reheat steam pressure (turbine side) (MPa)  Control stage pressure (Mpa)  \\\n",
      "0                                    1.963299                     10.377581   \n",
      "1                                    1.980802                     10.452863   \n",
      "2                                    1.960414                     10.385078   \n",
      "3                                    1.965160                     10.317235   \n",
      "4                                    1.989364                     10.474723   \n",
      "\n",
      "   High exhaust pressure (Mpa)  Feedwater pressure (MPa)  \\\n",
      "0                     2.190786                 15.681775   \n",
      "1                     2.209205                 15.622805   \n",
      "2                     2.187680                 15.832380   \n",
      "3                     2.192731                 15.916663   \n",
      "4                     2.219056                 15.952585   \n",
      "\n",
      "   Condenser vacuum (kPa)  Circulating water outlet temperature (℃)  \\\n",
      "0              -92.340199                                 35.935671   \n",
      "1              -92.339653                                 35.985531   \n",
      "2              -92.284749                                 36.173967   \n",
      "3              -92.436082                                 35.708826   \n",
      "4              -92.398878                                 35.782587   \n",
      "\n",
      "   SO2 (mg/m3)  Nox (mg/m3)  \n",
      "0   456.605493   167.734420  \n",
      "1   444.484792   198.133241  \n",
      "2   454.784334   207.309461  \n",
      "3   470.048153   208.889120  \n",
      "4   446.734282   210.277595  \n"
     ]
    }
   ],
   "execution_count": 9
  },
  {
   "metadata": {
    "ExecuteTime": {
     "end_time": "2025-01-27T11:56:46.181952Z",
     "start_time": "2025-01-27T11:56:46.178060Z"
    }
   },
   "cell_type": "code",
   "source": [
    "targets = df.iloc[:, [32, 22, 31] ]\n",
    "print(targets.head())"
   ],
   "id": "7552eaf13cc54a46",
   "outputs": [
    {
     "name": "stdout",
     "output_type": "stream",
     "text": [
      "   Cold Reheat Pressure (Mpa)     CO2 (ppm)  Entropi Inlet MS (Kj/Kg (Deg C))\n",
      "0                        2.19  95354.412916                          6.599359\n",
      "1                        2.22  94778.118596                          6.602637\n",
      "2                        2.19  98286.309894                          6.595116\n",
      "3                        2.19  98038.119912                          6.590498\n",
      "4                        2.22  98310.816290                          6.586680\n"
     ]
    }
   ],
   "execution_count": 10
  },
  {
   "metadata": {},
   "cell_type": "markdown",
   "source": "Prepare the data by creating train/test splits",
   "id": "f8487c1e1272dcc6"
  },
  {
   "metadata": {
    "ExecuteTime": {
     "end_time": "2025-01-27T11:56:46.451715Z",
     "start_time": "2025-01-27T11:56:46.448908Z"
    }
   },
   "cell_type": "code",
   "source": [
    "import numpy as np\n",
    "features = np.asarray(features)\n",
    "targets = np.asarray(targets)"
   ],
   "id": "dc78911ccac85e6c",
   "outputs": [],
   "execution_count": 11
  },
  {
   "metadata": {
    "ExecuteTime": {
     "end_time": "2025-01-27T11:56:46.949303Z",
     "start_time": "2025-01-27T11:56:46.493009Z"
    }
   },
   "cell_type": "code",
   "source": [
    "from sklearn.model_selection import train_test_split\n",
    "X_train, X_test, y_train, y_test = train_test_split(features, targets, test_size=0.2, random_state=42)"
   ],
   "id": "4faf04d1452ff147",
   "outputs": [],
   "execution_count": 12
  },
  {
   "metadata": {},
   "cell_type": "markdown",
   "source": "Build and evaluate a surrogate model that predicts the boiler efficiency:",
   "id": "a55817c2de402998"
  },
  {
   "metadata": {
    "ExecuteTime": {
     "end_time": "2025-01-27T11:56:46.985879Z",
     "start_time": "2025-01-27T11:56:46.954308Z"
    }
   },
   "cell_type": "code",
   "source": [
    "from sklearn.linear_model import Ridge\n",
    "from sklearn.preprocessing import PolynomialFeatures"
   ],
   "id": "5bf42d0103aef3",
   "outputs": [],
   "execution_count": 13
  },
  {
   "metadata": {
    "ExecuteTime": {
     "end_time": "2025-01-27T11:56:47.002113Z",
     "start_time": "2025-01-27T11:56:46.999652Z"
    }
   },
   "cell_type": "code",
   "source": "print(X_train.shape, y_train.shape)",
   "id": "8320c203ab01d977",
   "outputs": [
    {
     "name": "stdout",
     "output_type": "stream",
     "text": [
      "(72, 19) (72, 3)\n"
     ]
    }
   ],
   "execution_count": 14
  },
  {
   "metadata": {
    "ExecuteTime": {
     "end_time": "2025-01-27T11:56:47.017876Z",
     "start_time": "2025-01-27T11:56:47.014749Z"
    }
   },
   "cell_type": "code",
   "source": [
    "poly = PolynomialFeatures(degree=2)\n",
    "X_train_poly = poly.fit_transform(X_train)\n",
    "X_test_poly = poly.transform(X_test)\n",
    "print(X_train_poly.shape, y_train.shape)"
   ],
   "id": "111c613de9bf06d0",
   "outputs": [
    {
     "name": "stdout",
     "output_type": "stream",
     "text": [
      "(72, 210) (72, 3)\n"
     ]
    }
   ],
   "execution_count": 15
  },
  {
   "metadata": {
    "ExecuteTime": {
     "end_time": "2025-01-27T11:56:47.069099Z",
     "start_time": "2025-01-27T11:56:47.042429Z"
    }
   },
   "cell_type": "code",
   "source": [
    "from sklearn.metrics import r2_score, mean_squared_error\n",
    "\n",
    "model = Ridge(alpha=50000)\n",
    "model.fit(X_train_poly, y_train[:, 0])\n",
    "\n",
    "print(\"MSE score (train)\", mean_squared_error(model.predict(X_train_poly), y_train[:, 0]))\n",
    "print(\"MSE score (test)\", mean_squared_error(model.predict(X_test_poly), y_test[:, 0]))\n",
    "\n",
    "print(\"R2 score (train)\", r2_score(model.predict(X_train_poly), y_train[:, 0]))\n",
    "print(\"R2 score (test)\", r2_score(model.predict(X_test_poly), y_test[:, 0]))\n"
   ],
   "id": "19b5756bf0bd732b",
   "outputs": [
    {
     "name": "stdout",
     "output_type": "stream",
     "text": [
      "MSE score (train) 1.6827837996043237e-05\n",
      "MSE score (test) 0.00011324705145707843\n",
      "R2 score (train) 0.9652747765212717\n",
      "R2 score (test) 0.7533459765693388\n"
     ]
    }
   ],
   "execution_count": 16
  },
  {
   "metadata": {},
   "cell_type": "markdown",
   "source": "Define the objective function:",
   "id": "6d9c535865455d5b"
  },
  {
   "metadata": {
    "ExecuteTime": {
     "end_time": "2025-01-27T11:56:47.088710Z",
     "start_time": "2025-01-27T11:56:47.085035Z"
    }
   },
   "cell_type": "code",
   "source": [
    "def objective(X):\n",
    "    X = np.asarray([X])\n",
    "    X = poly.transform(X)\n",
    "    return -model.predict(X)\n",
    "x_min = np.min(X_train, axis=0)\n",
    "x_max = np.max(X_train, axis=0)\n",
    "print(x_min)\n",
    "print(x_max)"
   ],
   "id": "4e0cab24a5f17d4c",
   "outputs": [
    {
     "name": "stdout",
     "output_type": "stream",
     "text": [
      "[ 1.38890909e+01  5.63870979e+02  5.43708439e+01  5.89341398e-03\n",
      "  2.28966755e+02  8.08805537e+02  1.20180963e+02  4.29024999e+00\n",
      "  5.63120975e+02  1.37946366e+01  5.63870979e+02  1.92009645e+00\n",
      "  1.02332840e+01  2.14402020e+00  1.51919713e+01 -9.36358210e+01\n",
      "  3.47260342e+01  3.06231549e+02  1.41063354e+02]\n",
      "[ 14.83730502 567.46893819 111.49354712   7.9947686  250.22651418\n",
      " 874.28122711 129.97010777   5.11466477 567.18420919  14.745628\n",
      " 567.46893819   2.01199468  10.91991711   2.24457875  16.22224339\n",
      " -92.1178022   36.4578925  625.24827727 253.85688228]\n"
     ]
    }
   ],
   "execution_count": 17
  },
  {
   "metadata": {},
   "cell_type": "markdown",
   "source": "Optimize the surrogate using scipy",
   "id": "8deb34720f926773"
  },
  {
   "metadata": {
    "ExecuteTime": {
     "end_time": "2025-01-27T11:56:47.195164Z",
     "start_time": "2025-01-27T11:56:47.108308Z"
    }
   },
   "cell_type": "code",
   "source": [
    "from scipy.optimize import minimize\n",
    "bounds = [(low, high) for low, high in zip(x_min, x_max)]\n",
    "\n",
    "x0 = np.mean([x_min, x_max], axis=0)\n",
    "\n",
    "# Use scipy's minimize function for optimization\n",
    "result = minimize(objective, x0, method='L-BFGS-B', bounds=bounds)\n",
    "\n",
    "# Print the result of the optimization\n",
    "print(\"Optimal input:\", result.x)\n",
    "print(\"Model prediction for optimal input:\", -result.fun)"
   ],
   "id": "840e3a229c48a96e",
   "outputs": [
    {
     "name": "stdout",
     "output_type": "stream",
     "text": [
      "Optimal input: [ 14.83730502 567.46893819 111.49354712   7.9947686  228.96675523\n",
      " 874.28122711 120.18096293   4.29024999 563.12097549  14.745628\n",
      " 567.46893819   2.01199468  10.91991711   2.24457875  16.22224339\n",
      " -93.63582102  36.4578925  625.24827727 141.06335417]\n",
      "Model prediction for optimal input: 2.440265630164006\n"
     ]
    }
   ],
   "execution_count": 18
  },
  {
   "metadata": {
    "ExecuteTime": {
     "end_time": "2025-01-27T11:56:47.717644Z",
     "start_time": "2025-01-27T11:56:47.212729Z"
    }
   },
   "cell_type": "code",
   "source": [
    "from scipy.optimize import differential_evolution\n",
    "\n",
    "result_1 = differential_evolution(objective, bounds)\n",
    "\n",
    "# Print the result of the optimization\n",
    "print(\"Optimal input:\", result_1.x)\n",
    "print(\"Model prediction for optimal input:\", -result_1.fun)"
   ],
   "id": "3ba5f33e1076f2be",
   "outputs": [
    {
     "name": "stdout",
     "output_type": "stream",
     "text": [
      "Optimal input: [ 14.83730502 567.46893819 111.49354712   7.9947686  228.96675523\n",
      " 874.28122711 120.18096293   4.29024999 563.12097549  14.745628\n",
      " 567.46893819   2.01199468  10.91991711   2.24457875  16.22224339\n",
      " -93.63582102  36.4578925  625.24827727 141.06335417]\n",
      "Model prediction for optimal input: 2.440265630164006\n"
     ]
    }
   ],
   "execution_count": 19
  },
  {
   "metadata": {},
   "cell_type": "markdown",
   "source": "What about NOX and dust emissions at this point?",
   "id": "a1104aceb0f5851a"
  },
  {
   "metadata": {},
   "cell_type": "markdown",
   "source": "Assume that I want NOX below 200mg/m3 in any case. I can similarly developed a second surrogate for NOX",
   "id": "f052cd695ca5149e"
  },
  {
   "metadata": {
    "ExecuteTime": {
     "end_time": "2025-01-27T11:56:47.745689Z",
     "start_time": "2025-01-27T11:56:47.732998Z"
    }
   },
   "cell_type": "code",
   "source": [
    "nox_model = Ridge(alpha=5000)\n",
    "nox_model.fit(X_train_poly, y_train[:, 1])\n",
    "\n",
    "print(\"MSE score (train)\", mean_squared_error(nox_model.predict(X_train_poly), y_train[:, 1]))\n",
    "print(\"MSE score (test)\", mean_squared_error(nox_model.predict(X_test_poly), y_test[:, 1]))\n",
    "\n",
    "print(\"R2 score (train)\", r2_score(nox_model.predict(X_train_poly), y_train[:, 1]))\n",
    "print(\"R2 score (test)\", r2_score(nox_model.predict(X_test_poly), y_test[:, 1]))\n"
   ],
   "id": "c5301a948ebe7fdc",
   "outputs": [
    {
     "name": "stdout",
     "output_type": "stream",
     "text": [
      "MSE score (train) 241378.7108402841\n",
      "MSE score (test) 1035691.7071297094\n",
      "R2 score (train) 0.7539258409740411\n",
      "R2 score (test) -0.1432497546913094\n"
     ]
    }
   ],
   "execution_count": 20
  },
  {
   "metadata": {},
   "cell_type": "markdown",
   "source": "Define the NOX constraint:",
   "id": "685cc778bbf2c16b"
  },
  {
   "metadata": {
    "ExecuteTime": {
     "end_time": "2025-01-27T11:56:47.767045Z",
     "start_time": "2025-01-27T11:56:47.763541Z"
    }
   },
   "cell_type": "code",
   "source": [
    "def nox_constraint(X):\n",
    "    X = np.asarray([X]) \n",
    "    X_poly = poly.transform(X)  \n",
    "    return 200 - nox_model.predict(X_poly)[0]\n",
    "constraints = [{'type': 'ineq', 'fun': nox_constraint}]"
   ],
   "id": "c230e6b74c28cc37",
   "outputs": [],
   "execution_count": 21
  },
  {
   "metadata": {
    "ExecuteTime": {
     "end_time": "2025-01-27T11:56:47.864737Z",
     "start_time": "2025-01-27T11:56:47.785721Z"
    }
   },
   "cell_type": "code",
   "source": [
    "result2 = minimize(objective, x0, method='SLSQP', bounds=bounds, constraints=constraints)\n",
    "# Print the result of the optimization\n",
    "print(\"Optimal input:\", result2.x)\n",
    "print(\"Boiler efficiency:\", -result2.fun)\n",
    "print(\"NOX emissions at optimal boiler efficiency:\", nox_model.predict(poly.transform([result2.x]))[0])"
   ],
   "id": "2c0e6c83909e3fb8",
   "outputs": [
    {
     "name": "stdout",
     "output_type": "stream",
     "text": [
      "Optimal input: [ 14.83730502 563.87097931  54.37084389   7.9947686  228.96675523\n",
      " 874.28122711 129.97010777   5.11466477 563.12097549  14.745628\n",
      " 563.87097931   2.01199468  10.23328404   2.24457875  15.19197134\n",
      " -92.1178022   34.72603416 625.24827727 141.06335417]\n",
      "Boiler efficiency: 2.271736487775317\n",
      "NOX emissions at optimal boiler efficiency: 73235.8500651989\n"
     ]
    }
   ],
   "execution_count": 22
  },
  {
   "metadata": {},
   "cell_type": "markdown",
   "source": "Compare this to the previous solution:",
   "id": "1e5ca5d73199864e"
  },
  {
   "metadata": {
    "ExecuteTime": {
     "end_time": "2025-01-27T11:56:47.923766Z",
     "start_time": "2025-01-27T11:56:47.919826Z"
    }
   },
   "cell_type": "code",
   "source": [
    "print(\"Boiler efficiency:\", -result_1.fun)\n",
    "print(\"NOX emissions at previous optimal boiler efficiency:\", nox_model.predict(poly.transform([result_1.x]))[0])"
   ],
   "id": "ce05a824a5f77636",
   "outputs": [
    {
     "name": "stdout",
     "output_type": "stream",
     "text": [
      "Boiler efficiency: 2.440265630164006\n",
      "NOX emissions at previous optimal boiler efficiency: 99532.2958787615\n"
     ]
    }
   ],
   "execution_count": 23
  },
  {
   "metadata": {},
   "cell_type": "markdown",
   "source": "Let's model also dust emissions in a similar fashion:",
   "id": "c8d4ef82ffe8a965"
  },
  {
   "metadata": {
    "ExecuteTime": {
     "end_time": "2025-01-27T11:56:47.964554Z",
     "start_time": "2025-01-27T11:56:47.957817Z"
    }
   },
   "cell_type": "code",
   "source": [
    "dust_model = Ridge(alpha=1000)\n",
    "dust_model.fit(X_train_poly, y_train[:, 2])\n",
    "\n",
    "print(\"MSE score (train)\", mean_squared_error(dust_model.predict(X_train_poly), y_train[:, 2]))\n",
    "print(\"MSE score (test)\", mean_squared_error(dust_model.predict(X_test_poly), y_test[:, 2]))\n",
    "\n",
    "print(\"R2 score (train)\", r2_score(dust_model.predict(X_train_poly), y_train[:, 2]))\n",
    "print(\"R2 score (test)\", r2_score(dust_model.predict(X_test_poly), y_test[:, 2]))\n"
   ],
   "id": "c3717688a46928de",
   "outputs": [
    {
     "name": "stdout",
     "output_type": "stream",
     "text": [
      "MSE score (train) 3.953257821513613e-08\n",
      "MSE score (test) 5.543591687721236e-07\n",
      "R2 score (train) 0.9995940865841509\n",
      "R2 score (test) 0.9970044378920834\n"
     ]
    }
   ],
   "execution_count": 24
  },
  {
   "metadata": {},
   "cell_type": "markdown",
   "source": "Check the previous solutions:",
   "id": "d442cc001c807ea0"
  },
  {
   "metadata": {
    "ExecuteTime": {
     "end_time": "2025-01-27T11:56:48.025045Z",
     "start_time": "2025-01-27T11:56:48.020537Z"
    }
   },
   "cell_type": "code",
   "source": [
    "print(\"Boiler efficiency:\", -result_1.fun)\n",
    "print(\"NOX emissions at previous optimal boiler efficiency:\", nox_model.predict(poly.transform([result_1.x]))[0])\n",
    "print(\"Dust emissions at previous optimal boiler efficiency:\", dust_model.predict(poly.transform([result_1.x]))[0])"
   ],
   "id": "a10ec4e5f8a55757",
   "outputs": [
    {
     "name": "stdout",
     "output_type": "stream",
     "text": [
      "Boiler efficiency: 2.440265630164006\n",
      "NOX emissions at previous optimal boiler efficiency: 99532.2958787615\n",
      "Dust emissions at previous optimal boiler efficiency: 6.5741723616561805\n"
     ]
    }
   ],
   "execution_count": 25
  },
  {
   "metadata": {
    "ExecuteTime": {
     "end_time": "2025-01-27T11:56:48.055713Z",
     "start_time": "2025-01-27T11:56:48.052152Z"
    }
   },
   "cell_type": "code",
   "source": [
    "print(\"Boiler efficiency:\", -result2.fun)\n",
    "print(\"NOX emissions at previous optimal boiler efficiency:\", nox_model.predict(poly.transform([result2.x]))[0])\n",
    "print(\"Dust emissions at previous optimal boiler efficiency:\", dust_model.predict(poly.transform([result2.x]))[0])"
   ],
   "id": "e4fdfbef693ad3b",
   "outputs": [
    {
     "name": "stdout",
     "output_type": "stream",
     "text": [
      "Boiler efficiency: 2.271736487775317\n",
      "NOX emissions at previous optimal boiler efficiency: 73235.8500651989\n",
      "Dust emissions at previous optimal boiler efficiency: 6.578030607448882\n"
     ]
    }
   ],
   "execution_count": 26
  },
  {
   "metadata": {},
   "cell_type": "markdown",
   "source": "Extract the surrogate into matlab format",
   "id": "e8841797ece13736"
  },
  {
   "metadata": {
    "ExecuteTime": {
     "end_time": "2025-01-27T11:56:48.085273Z",
     "start_time": "2025-01-27T11:56:48.080201Z"
    }
   },
   "cell_type": "code",
   "source": "print(poly.get_feature_names_out())",
   "id": "aa63a28d7453feb1",
   "outputs": [
    {
     "name": "stdout",
     "output_type": "stream",
     "text": [
      "['1' 'x0' 'x1' 'x2' 'x3' 'x4' 'x5' 'x6' 'x7' 'x8' 'x9' 'x10' 'x11' 'x12'\n",
      " 'x13' 'x14' 'x15' 'x16' 'x17' 'x18' 'x0^2' 'x0 x1' 'x0 x2' 'x0 x3'\n",
      " 'x0 x4' 'x0 x5' 'x0 x6' 'x0 x7' 'x0 x8' 'x0 x9' 'x0 x10' 'x0 x11'\n",
      " 'x0 x12' 'x0 x13' 'x0 x14' 'x0 x15' 'x0 x16' 'x0 x17' 'x0 x18' 'x1^2'\n",
      " 'x1 x2' 'x1 x3' 'x1 x4' 'x1 x5' 'x1 x6' 'x1 x7' 'x1 x8' 'x1 x9' 'x1 x10'\n",
      " 'x1 x11' 'x1 x12' 'x1 x13' 'x1 x14' 'x1 x15' 'x1 x16' 'x1 x17' 'x1 x18'\n",
      " 'x2^2' 'x2 x3' 'x2 x4' 'x2 x5' 'x2 x6' 'x2 x7' 'x2 x8' 'x2 x9' 'x2 x10'\n",
      " 'x2 x11' 'x2 x12' 'x2 x13' 'x2 x14' 'x2 x15' 'x2 x16' 'x2 x17' 'x2 x18'\n",
      " 'x3^2' 'x3 x4' 'x3 x5' 'x3 x6' 'x3 x7' 'x3 x8' 'x3 x9' 'x3 x10' 'x3 x11'\n",
      " 'x3 x12' 'x3 x13' 'x3 x14' 'x3 x15' 'x3 x16' 'x3 x17' 'x3 x18' 'x4^2'\n",
      " 'x4 x5' 'x4 x6' 'x4 x7' 'x4 x8' 'x4 x9' 'x4 x10' 'x4 x11' 'x4 x12'\n",
      " 'x4 x13' 'x4 x14' 'x4 x15' 'x4 x16' 'x4 x17' 'x4 x18' 'x5^2' 'x5 x6'\n",
      " 'x5 x7' 'x5 x8' 'x5 x9' 'x5 x10' 'x5 x11' 'x5 x12' 'x5 x13' 'x5 x14'\n",
      " 'x5 x15' 'x5 x16' 'x5 x17' 'x5 x18' 'x6^2' 'x6 x7' 'x6 x8' 'x6 x9'\n",
      " 'x6 x10' 'x6 x11' 'x6 x12' 'x6 x13' 'x6 x14' 'x6 x15' 'x6 x16' 'x6 x17'\n",
      " 'x6 x18' 'x7^2' 'x7 x8' 'x7 x9' 'x7 x10' 'x7 x11' 'x7 x12' 'x7 x13'\n",
      " 'x7 x14' 'x7 x15' 'x7 x16' 'x7 x17' 'x7 x18' 'x8^2' 'x8 x9' 'x8 x10'\n",
      " 'x8 x11' 'x8 x12' 'x8 x13' 'x8 x14' 'x8 x15' 'x8 x16' 'x8 x17' 'x8 x18'\n",
      " 'x9^2' 'x9 x10' 'x9 x11' 'x9 x12' 'x9 x13' 'x9 x14' 'x9 x15' 'x9 x16'\n",
      " 'x9 x17' 'x9 x18' 'x10^2' 'x10 x11' 'x10 x12' 'x10 x13' 'x10 x14'\n",
      " 'x10 x15' 'x10 x16' 'x10 x17' 'x10 x18' 'x11^2' 'x11 x12' 'x11 x13'\n",
      " 'x11 x14' 'x11 x15' 'x11 x16' 'x11 x17' 'x11 x18' 'x12^2' 'x12 x13'\n",
      " 'x12 x14' 'x12 x15' 'x12 x16' 'x12 x17' 'x12 x18' 'x13^2' 'x13 x14'\n",
      " 'x13 x15' 'x13 x16' 'x13 x17' 'x13 x18' 'x14^2' 'x14 x15' 'x14 x16'\n",
      " 'x14 x17' 'x14 x18' 'x15^2' 'x15 x16' 'x15 x17' 'x15 x18' 'x16^2'\n",
      " 'x16 x17' 'x16 x18' 'x17^2' 'x17 x18' 'x18^2']\n"
     ]
    }
   ],
   "execution_count": 27
  },
  {
   "metadata": {
    "ExecuteTime": {
     "end_time": "2025-01-27T11:56:48.125948Z",
     "start_time": "2025-01-27T11:56:48.119441Z"
    }
   },
   "cell_type": "code",
   "source": [
    "intercept = model.intercept_\n",
    "coefficients = model.coef_\n",
    "terms = poly.get_feature_names_out()\n",
    "\n",
    "matlab_code = \"function y = surrogate_model(X)\\n\"\n",
    "matlab_code += \"    % X is a vector of input features [x1, x2, ..., xn]\\n\\n\"\n",
    "\n",
    "# Declare the variables in MATLAB (x1, x2, ...)\n",
    "num_features = X_train.shape[1]\n",
    "for i in range(num_features):\n",
    "    matlab_code += f\"    x{i} = X({i+1});\\n\"\n",
    "\n",
    "# Create the polynomial combinations\n",
    "matlab_code += \"\\n    poly_terms = [1, \"  \n",
    "for term in terms[1:]:\n",
    "    matlab_term = term.replace(\"x\", \"x\").replace(\" \", \"*\")\n",
    "    matlab_code += f\"{matlab_term}, \"\n",
    "matlab_code = matlab_code.rstrip(\", \")  # Remove trailing comma and space\n",
    "matlab_code += \"];\\n\\n\"\n",
    "\n",
    "# Add regression coefficients\n",
    "matlab_code += f\"\\n    coefficients = [{intercept}, \"  # Start with intercept\n",
    "for coef in coefficients[1:]:  # Skip the first coefficient (intercept)\n",
    "    matlab_code += f\"{coef}, \"\n",
    "matlab_code = matlab_code.rstrip(\", \")  # Remove trailing comma and space\n",
    "matlab_code += \"];\\n\\n\"\n",
    "matlab_code += \"    y = sum(coefficients .* poly_terms);\\n\"\n",
    "matlab_code += \"end\\n\"\n",
    "\n",
    "with open(\"surrogate_model.m\", \"w\") as f:\n",
    "    f.write(matlab_code)"
   ],
   "id": "18ce978f5dfe19",
   "outputs": [],
   "execution_count": 28
  },
  {
   "metadata": {
    "ExecuteTime": {
     "end_time": "2025-01-27T11:56:48.144666Z",
     "start_time": "2025-01-27T11:56:48.142843Z"
    }
   },
   "cell_type": "code",
   "source": "",
   "id": "e0ce03d4500121e0",
   "outputs": [],
   "execution_count": null
  },
  {
   "metadata": {
    "ExecuteTime": {
     "end_time": "2025-01-27T11:56:48.165129Z",
     "start_time": "2025-01-27T11:56:48.162502Z"
    }
   },
   "cell_type": "code",
   "source": "print(\"Matlab Input x =\", ' '.join(f\"{result2.x}\".split()).replace(\" \", \", \"))",
   "id": "9866d16f3be723b7",
   "outputs": [
    {
     "name": "stdout",
     "output_type": "stream",
     "text": [
      "Matlab Input x = [, 14.83730502, 563.87097931, 54.37084389, 7.9947686, 228.96675523, 874.28122711, 129.97010777, 5.11466477, 563.12097549, 14.745628, 563.87097931, 2.01199468, 10.23328404, 2.24457875, 15.19197134, -92.1178022, 34.72603416, 625.24827727, 141.06335417]\n"
     ]
    }
   ],
   "execution_count": 29
  },
  {
   "metadata": {
    "ExecuteTime": {
     "end_time": "2025-01-27T11:56:48.183827Z",
     "start_time": "2025-01-27T11:56:48.181647Z"
    }
   },
   "cell_type": "code",
   "source": "print(\"Boiler efficiency:\", -result2.fun)",
   "id": "15749b9d23290b4",
   "outputs": [
    {
     "name": "stdout",
     "output_type": "stream",
     "text": [
      "Boiler efficiency: 2.271736487775317\n"
     ]
    }
   ],
   "execution_count": 30
  },
  {
   "metadata": {},
   "cell_type": "markdown",
   "source": [
    "```>> \n",
    ">> surrogate_model(x)\n",
    "\n",
    "ans =\n",
    "\n",
    "   94.4200\n",
    "\n",
    ">> '''"
   ],
   "id": "f8564b9c0c8aa6ee"
  },
  {
   "metadata": {
    "ExecuteTime": {
     "end_time": "2025-01-27T11:56:48.206775Z",
     "start_time": "2025-01-27T11:56:48.201661Z"
    }
   },
   "cell_type": "code",
   "source": [
    "intercept = nox_model.intercept_\n",
    "coefficients = nox_model.coef_\n",
    "terms = poly.get_feature_names_out()\n",
    "\n",
    "matlab_code = \"function y = surrogate_model(X)\\n\"\n",
    "matlab_code += \"    % X is a vector of input features [x1, x2, ..., xn]\\n\\n\"\n",
    "\n",
    "# Declare the variables in MATLAB (x1, x2, ...)\n",
    "num_features = X_train.shape[1]\n",
    "for i in range(num_features):\n",
    "    matlab_code += f\"    x{i} = X({i + 1});\\n\"\n",
    "\n",
    "# Create the polynomial combinations\n",
    "matlab_code += \"\\n    poly_terms = [1, \"\n",
    "for term in terms[1:]:\n",
    "    matlab_term = term.replace(\"x\", \"x\").replace(\" \", \"*\")\n",
    "    matlab_code += f\"{matlab_term}, \"\n",
    "matlab_code = matlab_code.rstrip(\", \")  # Remove trailing comma and space\n",
    "matlab_code += \"];\\n\\n\"\n",
    "\n",
    "# Add regression coefficients\n",
    "matlab_code += f\"\\n    coefficients = [{intercept}, \"  # Start with intercept\n",
    "for coef in coefficients[1:]:  # Skip the first coefficient (intercept)\n",
    "    matlab_code += f\"{coef}, \"\n",
    "matlab_code = matlab_code.rstrip(\", \")  # Remove trailing comma and space\n",
    "matlab_code += \"];\\n\\n\"\n",
    "matlab_code += \"    y = sum(coefficients .* poly_terms);\\n\"\n",
    "matlab_code += \"end\\n\"\n",
    "\n",
    "with open(\"nox_model.m\", \"w\") as f:\n",
    "    f.write(matlab_code)"
   ],
   "id": "6b588f92cab7cd3c",
   "outputs": [],
   "execution_count": 31
  },
  {
   "metadata": {},
   "cell_type": "markdown",
   "source": "",
   "id": "5b33a563eb3021d1"
  },
  {
   "metadata": {},
   "cell_type": "markdown",
   "source": "",
   "id": "d7fc8900bae8b1dd"
  }
 ],
 "metadata": {
  "kernelspec": {
   "display_name": "Python 3",
   "language": "python",
   "name": "python3"
  },
  "language_info": {
   "codemirror_mode": {
    "name": "ipython",
    "version": 2
   },
   "file_extension": ".py",
   "mimetype": "text/x-python",
   "name": "python",
   "nbconvert_exporter": "python",
   "pygments_lexer": "ipython2",
   "version": "2.7.6"
  }
 },
 "nbformat": 4,
 "nbformat_minor": 5
}
