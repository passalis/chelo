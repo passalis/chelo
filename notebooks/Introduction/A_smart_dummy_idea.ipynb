{
  "nbformat": 4,
  "nbformat_minor": 0,
  "metadata": {
    "colab": {
      "provenance": []
    },
    "kernelspec": {
      "name": "python3",
      "display_name": "Python 3"
    },
    "language_info": {
      "name": "python"
    }
  },
  "cells": [
    {
      "cell_type": "markdown",
      "source": [
        "# AI from scratch"
      ],
      "metadata": {
        "id": "efLQhF0nHQpG"
      }
    },
    {
      "cell_type": "code",
      "source": [
        "!pip install chelo"
      ],
      "metadata": {
        "colab": {
          "base_uri": "https://localhost:8080/"
        },
        "id": "gdohauQ7OTFk",
        "outputId": "148e552e-184f-4c5a-ac09-0b92b86a436c"
      },
      "execution_count": 2,
      "outputs": [
        {
          "output_type": "stream",
          "name": "stdout",
          "text": [
            "Collecting chelo\n",
            "  Downloading chelo-0.0.4-py3-none-any.whl.metadata (7.2 kB)\n",
            "Requirement already satisfied: numpy in /usr/local/lib/python3.11/dist-packages (from chelo) (1.26.4)\n",
            "Requirement already satisfied: pandas in /usr/local/lib/python3.11/dist-packages (from chelo) (2.2.2)\n",
            "Requirement already satisfied: tqdm in /usr/local/lib/python3.11/dist-packages (from chelo) (4.67.1)\n",
            "Requirement already satisfied: requests in /usr/local/lib/python3.11/dist-packages (from chelo) (2.32.3)\n",
            "Requirement already satisfied: kaggle in /usr/local/lib/python3.11/dist-packages (from chelo) (1.6.17)\n",
            "Requirement already satisfied: openpyxl in /usr/local/lib/python3.11/dist-packages (from chelo) (3.1.5)\n",
            "Requirement already satisfied: joblib in /usr/local/lib/python3.11/dist-packages (from chelo) (1.4.2)\n",
            "Requirement already satisfied: six>=1.10 in /usr/local/lib/python3.11/dist-packages (from kaggle->chelo) (1.17.0)\n",
            "Requirement already satisfied: certifi>=2023.7.22 in /usr/local/lib/python3.11/dist-packages (from kaggle->chelo) (2025.1.31)\n",
            "Requirement already satisfied: python-dateutil in /usr/local/lib/python3.11/dist-packages (from kaggle->chelo) (2.8.2)\n",
            "Requirement already satisfied: python-slugify in /usr/local/lib/python3.11/dist-packages (from kaggle->chelo) (8.0.4)\n",
            "Requirement already satisfied: urllib3 in /usr/local/lib/python3.11/dist-packages (from kaggle->chelo) (2.3.0)\n",
            "Requirement already satisfied: bleach in /usr/local/lib/python3.11/dist-packages (from kaggle->chelo) (6.2.0)\n",
            "Requirement already satisfied: et-xmlfile in /usr/local/lib/python3.11/dist-packages (from openpyxl->chelo) (2.0.0)\n",
            "Requirement already satisfied: pytz>=2020.1 in /usr/local/lib/python3.11/dist-packages (from pandas->chelo) (2025.1)\n",
            "Requirement already satisfied: tzdata>=2022.7 in /usr/local/lib/python3.11/dist-packages (from pandas->chelo) (2025.1)\n",
            "Requirement already satisfied: charset-normalizer<4,>=2 in /usr/local/lib/python3.11/dist-packages (from requests->chelo) (3.4.1)\n",
            "Requirement already satisfied: idna<4,>=2.5 in /usr/local/lib/python3.11/dist-packages (from requests->chelo) (3.10)\n",
            "Requirement already satisfied: webencodings in /usr/local/lib/python3.11/dist-packages (from bleach->kaggle->chelo) (0.5.1)\n",
            "Requirement already satisfied: text-unidecode>=1.3 in /usr/local/lib/python3.11/dist-packages (from python-slugify->kaggle->chelo) (1.3)\n",
            "Downloading chelo-0.0.4-py3-none-any.whl (25 kB)\n",
            "Installing collected packages: chelo\n",
            "Successfully installed chelo-0.0.4\n"
          ]
        }
      ]
    },
    {
      "cell_type": "code",
      "execution_count": 6,
      "metadata": {
        "colab": {
          "base_uri": "https://localhost:8080/"
        },
        "id": "w2Hle1I-HJV_",
        "outputId": "aa4d507d-3899-4cb3-d419-197ef0e3a47e"
      },
      "outputs": [
        {
          "output_type": "stream",
          "name": "stdout",
          "text": [
            "Downloading 'winequality-white.csv' for dataset 'wine_quality' from https://archive.ics.uci.edu/ml/machine-learning-databases/wine-quality/winequality-white.csv...\n"
          ]
        },
        {
          "output_type": "stream",
          "name": "stderr",
          "text": [
            "Downloading winequality-white.csv: 264kB [00:00, 515kB/s]"
          ]
        },
        {
          "output_type": "stream",
          "name": "stdout",
          "text": [
            "File downloaded and saved at '/root/.chelo/wine_quality/winequality-white.csv'.\n"
          ]
        },
        {
          "output_type": "stream",
          "name": "stderr",
          "text": [
            "\n"
          ]
        }
      ],
      "source": [
        "from chelo import DatasetRegistry\n",
        "from sklearn.model_selection import train_test_split\n",
        "from sklearn.linear_model import LinearRegression\n",
        "from sklearn.metrics import mean_squared_error\n",
        "\n",
        "# Load and prepare the dataset\n",
        "dataset = DatasetRegistry.get_dataset(\"WineQualityDataset\", wine_type=\"white\")\n",
        "dataset.load_data()"
      ]
    },
    {
      "cell_type": "markdown",
      "source": [
        "Let's load the data:"
      ],
      "metadata": {
        "id": "blGmPZ8eHQm0"
      }
    },
    {
      "cell_type": "code",
      "source": [
        "X, y = dataset.to_numpy()\n",
        "print(X.shape, y.shape)"
      ],
      "metadata": {
        "colab": {
          "base_uri": "https://localhost:8080/"
        },
        "id": "DqQZdFRvHQX_",
        "outputId": "e9d03046-c463-4bbd-f38e-7802a51cc12e"
      },
      "execution_count": 8,
      "outputs": [
        {
          "output_type": "stream",
          "name": "stdout",
          "text": [
            "(4898, 11) (4898, 1)\n"
          ]
        }
      ]
    },
    {
      "cell_type": "code",
      "source": [],
      "metadata": {
        "id": "-IbYIBEVPZHT"
      },
      "execution_count": null,
      "outputs": []
    },
    {
      "cell_type": "markdown",
      "source": [
        "First we need to have a train-test split:"
      ],
      "metadata": {
        "id": "60QMZ-D3PZv0"
      }
    },
    {
      "cell_type": "code",
      "source": [
        "print(y)"
      ],
      "metadata": {
        "colab": {
          "base_uri": "https://localhost:8080/"
        },
        "id": "skzStFs0Pda6",
        "outputId": "be5e7c47-1a3a-4e75-f5bc-bf43a043ceda"
      },
      "execution_count": 9,
      "outputs": [
        {
          "output_type": "stream",
          "name": "stdout",
          "text": [
            "[[6]\n",
            " [6]\n",
            " [6]\n",
            " ...\n",
            " [6]\n",
            " [7]\n",
            " [6]]\n"
          ]
        }
      ]
    },
    {
      "cell_type": "code",
      "source": [
        "X_train = X[:4000, :]\n",
        "y_train = y[:4000]\n",
        "X_test = X[4000:, :]\n",
        "y_test = y[4000:]"
      ],
      "metadata": {
        "id": "V-4ib_AEPZJa"
      },
      "execution_count": 10,
      "outputs": []
    },
    {
      "cell_type": "markdown",
      "source": [
        "It is a good practice to validate that we can correctly loaded our dataset:"
      ],
      "metadata": {
        "id": "fgje8ZzLPqQY"
      }
    },
    {
      "cell_type": "code",
      "source": [
        "print(X_train.shape, y_train.shape)\n",
        "print(X_test.shape, y_test.shape)"
      ],
      "metadata": {
        "colab": {
          "base_uri": "https://localhost:8080/"
        },
        "id": "mD8a0FodPZLg",
        "outputId": "44aebdf4-6c62-4999-940f-57cc791bb6b7"
      },
      "execution_count": 11,
      "outputs": [
        {
          "output_type": "stream",
          "name": "stdout",
          "text": [
            "(4000, 11) (4000, 1)\n",
            "(898, 11) (898, 1)\n"
          ]
        }
      ]
    },
    {
      "cell_type": "code",
      "source": [],
      "metadata": {
        "id": "oxQmidH_PZNx"
      },
      "execution_count": null,
      "outputs": []
    },
    {
      "cell_type": "markdown",
      "source": [
        "What is the simplest algorithm that you can think of for predicting the unknown values for X_test?"
      ],
      "metadata": {
        "id": "R7q1lIc8PyTO"
      }
    },
    {
      "cell_type": "code",
      "source": [
        "import numpy as np\n",
        "\n",
        "def predict_sample_1nn(X_train, y_train, x):\n",
        "    # Calculate the distance between x and each sample in X_train\n",
        "\n",
        "    distance = (X_train - x)**2\n",
        "    distance = np.mean(distance, axis=1)\n",
        "    idx = np.argmin(distance)\n",
        "    return y_train[idx][0]"
      ],
      "metadata": {
        "id": "OcbjcHm8QGFZ"
      },
      "execution_count": 36,
      "outputs": []
    },
    {
      "cell_type": "code",
      "source": [
        "predict_sample_1nn(X_train, y_train, X_test[1, :])"
      ],
      "metadata": {
        "colab": {
          "base_uri": "https://localhost:8080/"
        },
        "id": "7UDJSF88QSFF",
        "outputId": "e623bac7-df13-4178-8b7d-e08a7c59012c"
      },
      "execution_count": 37,
      "outputs": [
        {
          "output_type": "execute_result",
          "data": {
            "text/plain": [
              "6"
            ]
          },
          "metadata": {},
          "execution_count": 37
        }
      ]
    },
    {
      "cell_type": "markdown",
      "source": [
        "Let's calculate the predictions for all the samples:"
      ],
      "metadata": {
        "id": "pjx5i5XaHQkc"
      }
    },
    {
      "cell_type": "code",
      "source": [
        "y_test_predictions = []\n",
        "for i in range(X_test.shape[0]):\n",
        "  prediction = predict_sample_1nn(X_train, y_train, X_test[i, :])\n",
        "  y_test_predictions.append(prediction)\n",
        "print(y_test_predictions)"
      ],
      "metadata": {
        "colab": {
          "base_uri": "https://localhost:8080/"
        },
        "id": "4ih-ZnlWQtbb",
        "outputId": "934bba3c-74b1-40f8-f8a0-6aebbce95244"
      },
      "execution_count": 54,
      "outputs": [
        {
          "output_type": "stream",
          "name": "stdout",
          "text": [
            "[6, 6, 7, 7, 7, 7, 7, 6, 7, 6, 7, 7, 6, 6, 5, 7, 6, 6, 5, 7, 4, 7, 6, 6, 6, 7, 6, 5, 7, 7, 6, 6, 6, 6, 6, 5, 5, 6, 6, 3, 6, 7, 6, 6, 6, 6, 5, 7, 7, 6, 6, 6, 7, 6, 5, 6, 5, 6, 7, 6, 6, 6, 8, 6, 9, 7, 6, 5, 6, 6, 6, 5, 6, 4, 8, 6, 8, 5, 5, 6, 6, 6, 6, 7, 5, 7, 6, 7, 6, 6, 6, 6, 6, 5, 7, 5, 5, 6, 6, 6, 7, 6, 6, 6, 7, 6, 6, 5, 6, 5, 7, 7, 8, 6, 6, 5, 5, 5, 6, 6, 7, 5, 6, 7, 6, 7, 7, 5, 6, 4, 6, 5, 5, 6, 6, 5, 8, 5, 6, 6, 5, 5, 6, 5, 5, 6, 6, 6, 5, 6, 5, 6, 5, 6, 6, 6, 6, 7, 7, 7, 7, 7, 7, 7, 7, 6, 6, 7, 7, 7, 7, 5, 6, 6, 6, 6, 6, 6, 6, 6, 6, 6, 6, 8, 7, 6, 6, 5, 6, 5, 7, 6, 6, 6, 6, 6, 6, 5, 5, 6, 7, 6, 7, 5, 6, 6, 6, 7, 7, 6, 6, 6, 5, 4, 6, 6, 6, 6, 6, 6, 7, 7, 6, 5, 7, 7, 5, 7, 7, 6, 5, 8, 7, 6, 5, 6, 6, 7, 6, 7, 6, 6, 6, 6, 5, 5, 6, 6, 6, 5, 8, 6, 8, 7, 5, 5, 5, 7, 6, 7, 7, 5, 5, 6, 7, 7, 5, 5, 5, 6, 6, 5, 5, 5, 5, 5, 6, 5, 6, 7, 5, 6, 6, 7, 7, 7, 7, 6, 7, 7, 6, 5, 6, 5, 6, 5, 6, 8, 5, 6, 3, 6, 6, 7, 7, 7, 6, 6, 6, 6, 5, 6, 7, 6, 7, 8, 5, 7, 7, 8, 5, 5, 6, 6, 7, 5, 6, 5, 7, 5, 5, 6, 6, 6, 6, 6, 6, 6, 6, 4, 6, 6, 6, 5, 5, 7, 5, 5, 5, 5, 7, 6, 6, 7, 7, 6, 5, 6, 5, 5, 6, 6, 7, 6, 5, 6, 7, 6, 6, 5, 6, 5, 7, 7, 6, 6, 6, 6, 5, 6, 6, 7, 5, 6, 5, 5, 6, 8, 6, 7, 7, 6, 7, 6, 6, 5, 5, 5, 5, 5, 5, 4, 5, 6, 5, 5, 7, 7, 5, 7, 5, 8, 7, 8, 7, 6, 5, 5, 6, 6, 6, 6, 5, 5, 6, 6, 6, 6, 7, 6, 5, 7, 7, 6, 6, 6, 5, 6, 7, 7, 6, 7, 6, 7, 7, 7, 6, 7, 6, 5, 4, 5, 7, 7, 6, 5, 5, 5, 6, 7, 6, 6, 6, 7, 6, 6, 7, 5, 6, 7, 7, 7, 5, 6, 7, 6, 7, 5, 5, 7, 6, 5, 5, 5, 7, 6, 5, 7, 7, 7, 6, 7, 4, 6, 5, 5, 5, 6, 5, 8, 6, 6, 6, 7, 6, 6, 7, 6, 7, 6, 7, 7, 7, 7, 6, 6, 8, 5, 5, 6, 5, 6, 5, 6, 6, 6, 5, 5, 6, 5, 5, 5, 6, 6, 8, 6, 7, 5, 6, 4, 6, 6, 7, 7, 6, 7, 6, 6, 5, 7, 7, 5, 7, 6, 6, 7, 6, 5, 5, 6, 6, 7, 7, 6, 6, 7, 5, 7, 7, 7, 7, 6, 6, 6, 6, 6, 6, 7, 7, 6, 6, 6, 6, 6, 5, 7, 7, 4, 5, 7, 5, 6, 6, 6, 6, 6, 6, 5, 6, 6, 6, 8, 6, 7, 5, 7, 6, 4, 6, 5, 6, 5, 5, 6, 6, 6, 6, 6, 6, 6, 7, 7, 6, 6, 6, 5, 5, 6, 6, 6, 6, 5, 5, 6, 5, 6, 6, 7, 6, 6, 7, 7, 7, 5, 7, 6, 6, 7, 5, 5, 5, 5, 5, 7, 5, 5, 5, 5, 7, 7, 6, 7, 7, 6, 6, 7, 6, 6, 6, 6, 5, 7, 7, 6, 7, 8, 5, 6, 5, 7, 6, 7, 4, 7, 5, 5, 6, 6, 6, 6, 6, 6, 6, 6, 6, 7, 6, 7, 6, 5, 5, 6, 6, 6, 5, 7, 6, 8, 6, 6, 8, 8, 7, 7, 6, 8, 6, 6, 5, 8, 8, 6, 6, 6, 6, 7, 6, 6, 5, 5, 6, 6, 6, 5, 6, 5, 8, 6, 8, 6, 6, 7, 6, 5, 6, 3, 5, 7, 6, 5, 5, 5, 6, 7, 6, 7, 6, 6, 9, 7, 7, 7, 6, 6, 8, 7, 5, 3, 6, 6, 6, 6, 6, 5, 6, 7, 6, 6, 6, 7, 7, 5, 6, 6, 5, 8, 6, 8, 5, 6, 8, 6, 6, 6, 6, 7, 7, 8, 6, 6, 7, 7, 6, 6, 5, 7, 5, 6, 6, 7, 6, 6, 8, 5, 6, 6, 6, 6, 7, 6, 5, 5, 6, 5, 6, 7, 7, 6, 6, 7, 6, 6, 6, 6, 7, 6, 7, 5, 6, 6, 7, 8, 6, 6, 6, 5, 8, 5, 6, 6, 6, 6, 6, 6, 5, 5, 5, 6, 5, 7, 6, 7, 5, 6, 6, 7, 6, 4, 8, 8, 6, 7, 5, 6, 7, 6, 7, 5, 6, 8, 8, 6, 5, 5, 8, 8, 6, 5, 5, 6, 6, 7, 6, 5, 5, 6, 6, 7]\n"
          ]
        }
      ]
    },
    {
      "cell_type": "markdown",
      "source": [
        "Let's compare these predictions to the actual raw values:"
      ],
      "metadata": {
        "id": "ZJYsZNxGRFBP"
      }
    },
    {
      "cell_type": "code",
      "source": [
        "print(y_test.shape)"
      ],
      "metadata": {
        "colab": {
          "base_uri": "https://localhost:8080/"
        },
        "id": "KuWffs77RHgB",
        "outputId": "6d5e7a56-fd82-466c-f0c1-af3abada7f91"
      },
      "execution_count": 56,
      "outputs": [
        {
          "output_type": "stream",
          "name": "stdout",
          "text": [
            "(898, 1)\n"
          ]
        }
      ]
    },
    {
      "cell_type": "markdown",
      "source": [
        "It is very hard to actually understand if these are good or bad so let's do the following. 1) Calculate the mean squared error (mse), as well as 2) calculate the accuracy on correctly classifying the samples to the their class"
      ],
      "metadata": {
        "id": "tj9V-VfpHQiD"
      }
    },
    {
      "cell_type": "code",
      "source": [
        "mse = np.mean(y_test_predictions - y_test.squeeze())**2\n",
        "print(\"MSE = \", mse)"
      ],
      "metadata": {
        "colab": {
          "base_uri": "https://localhost:8080/"
        },
        "id": "E_0sz0Y3RhkT",
        "outputId": "7a8ffe68-c195-494f-c83a-fe588d765a9b"
      },
      "execution_count": 57,
      "outputs": [
        {
          "output_type": "stream",
          "name": "stdout",
          "text": [
            "MSE =  0.036686325960684725\n"
          ]
        }
      ]
    },
    {
      "cell_type": "code",
      "source": [
        "accuracy = np.mean(y_test_predictions == y_test.squeeze())\n",
        "print(\"Accuracy = \", accuracy)\n"
      ],
      "metadata": {
        "colab": {
          "base_uri": "https://localhost:8080/"
        },
        "id": "6vOeWAePRhml",
        "outputId": "388a134f-254d-4698-e488-1555d4021f27"
      },
      "execution_count": 58,
      "outputs": [
        {
          "output_type": "stream",
          "name": "stdout",
          "text": [
            "Accuracy =  0.4053452115812918\n"
          ]
        }
      ]
    },
    {
      "cell_type": "markdown",
      "source": [
        "Can we do the same with the train set?"
      ],
      "metadata": {
        "id": "R332OX-9R_mx"
      }
    },
    {
      "cell_type": "code",
      "source": [
        "y_train_predictions = []\n",
        "for i in range(X_train.shape[0]):\n",
        "  prediction = predict_sample_1nn(X_train, y_train, X_train[i, :])\n",
        "  y_train_predictions.append(prediction)\n",
        "print(y_train_predictions)"
      ],
      "metadata": {
        "colab": {
          "base_uri": "https://localhost:8080/"
        },
        "id": "CZKy7vs1Rhqc",
        "outputId": "8ed69d25-0208-4b55-e51a-9359c3376d52"
      },
      "execution_count": 59,
      "outputs": [
        {
          "output_type": "stream",
          "name": "stdout",
          "text": [
            "[6, 6, 6, 6, 6, 6, 6, 6, 6, 6, 5, 5, 5, 7, 5, 7, 6, 8, 6, 5, 8, 7, 8, 5, 6, 6, 6, 6, 6, 7, 6, 6, 6, 6, 5, 5, 5, 6, 5, 5, 6, 6, 6, 6, 6, 7, 4, 5, 6, 5, 6, 7, 7, 6, 6, 6, 6, 6, 6, 6, 6, 6, 5, 6, 6, 5, 7, 5, 8, 5, 6, 5, 5, 6, 8, 5, 7, 7, 5, 5, 6, 6, 5, 6, 5, 6, 6, 6, 5, 6, 6, 5, 7, 7, 7, 6, 6, 7, 4, 6, 5, 5, 5, 5, 5, 6, 5, 6, 6, 5, 6, 5, 5, 5, 5, 4, 6, 6, 5, 5, 5, 5, 5, 6, 6, 6, 5, 7, 7, 6, 5, 7, 5, 5, 5, 5, 6, 5, 7, 6, 5, 5, 6, 6, 6, 6, 6, 4, 7, 6, 7, 6, 6, 5, 6, 6, 6, 7, 8, 8, 7, 5, 5, 6, 5, 5, 6, 7, 5, 5, 6, 6, 4, 7, 5, 6, 4, 5, 4, 6, 6, 5, 5, 6, 5, 5, 6, 5, 8, 4, 6, 5, 6, 5, 5, 6, 5, 5, 5, 5, 5, 5, 5, 6, 4, 5, 5, 4, 5, 6, 5, 7, 5, 6, 7, 5, 5, 5, 5, 5, 5, 6, 7, 6, 6, 5, 6, 6, 6, 5, 4, 6, 6, 6, 6, 6, 6, 6, 7, 6, 5, 5, 7, 6, 5, 6, 7, 7, 7, 5, 4, 3, 5, 3, 6, 8, 7, 7, 6, 4, 6, 5, 5, 6, 6, 5, 6, 5, 6, 6, 6, 5, 5, 5, 5, 6, 6, 5, 4, 7, 8, 8, 4, 5, 5, 5, 6, 7, 7, 7, 7, 6, 5, 7, 3, 6, 5, 7, 6, 6, 6, 6, 6, 6, 6, 6, 5, 6, 7, 6, 7, 8, 6, 6, 5, 6, 6, 5, 7, 6, 7, 5, 6, 6, 5, 5, 6, 6, 6, 5, 8, 5, 6, 5, 5, 6, 6, 6, 5, 7, 7, 6, 6, 5, 6, 6, 7, 6, 6, 5, 7, 7, 6, 7, 6, 6, 6, 6, 6, 6, 6, 5, 6, 6, 7, 7, 6, 6, 6, 5, 6, 6, 5, 6, 7, 7, 7, 7, 6, 7, 7, 6, 6, 6, 7, 7, 7, 5, 6, 7, 7, 5, 6, 6, 5, 5, 5, 6, 5, 6, 6, 5, 5, 5, 6, 5, 7, 5, 6, 5, 6, 6, 5, 5, 6, 6, 6, 5, 6, 6, 7, 6, 6, 6, 7, 6, 6, 5, 5, 5, 5, 5, 7, 4, 8, 7, 5, 8, 7, 5, 7, 6, 8, 6, 6, 3, 5, 6, 6, 7, 5, 5, 7, 7, 7, 6, 7, 5, 6, 5, 5, 5, 5, 6, 5, 5, 6, 6, 5, 5, 6, 5, 6, 7, 6, 5, 7, 6, 6, 6, 5, 6, 5, 5, 5, 6, 6, 6, 6, 6, 6, 7, 6, 6, 6, 6, 4, 6, 5, 4, 6, 6, 6, 5, 6, 6, 5, 7, 6, 7, 6, 6, 6, 6, 7, 6, 5, 6, 6, 5, 5, 5, 6, 6, 5, 6, 4, 6, 6, 6, 6, 5, 6, 6, 6, 5, 5, 6, 5, 6, 4, 5, 6, 6, 6, 6, 6, 6, 7, 5, 7, 7, 7, 7, 7, 7, 5, 6, 5, 6, 7, 5, 6, 7, 5, 6, 6, 5, 6, 6, 5, 7, 5, 7, 7, 6, 6, 7, 7, 7, 5, 5, 6, 6, 7, 6, 6, 7, 7, 6, 5, 6, 5, 5, 5, 7, 5, 6, 8, 7, 6, 6, 5, 5, 6, 6, 5, 5, 5, 6, 8, 6, 5, 5, 5, 5, 7, 6, 6, 6, 5, 5, 6, 5, 5, 8, 4, 6, 6, 6, 5, 5, 6, 5, 6, 6, 7, 5, 5, 5, 7, 4, 6, 5, 5, 5, 4, 6, 5, 7, 7, 7, 7, 6, 7, 6, 6, 5, 5, 4, 5, 7, 4, 5, 6, 5, 6, 6, 6, 5, 6, 6, 8, 6, 5, 6, 6, 7, 7, 7, 5, 5, 6, 5, 5, 5, 7, 4, 6, 7, 4, 6, 5, 5, 6, 5, 6, 5, 5, 5, 5, 7, 4, 6, 6, 5, 5, 6, 6, 5, 5, 6, 6, 5, 6, 7, 6, 5, 7, 7, 5, 5, 6, 8, 7, 5, 7, 5, 5, 5, 6, 6, 7, 6, 5, 6, 6, 5, 7, 6, 3, 6, 6, 5, 5, 6, 6, 6, 6, 6, 6, 6, 6, 6, 5, 7, 5, 6, 7, 7, 6, 6, 5, 6, 6, 6, 5, 6, 7, 7, 7, 7, 7, 5, 9, 6, 6, 5, 7, 8, 4, 6, 7, 8, 5, 6, 6, 6, 7, 6, 6, 7, 5, 7, 5, 5, 6, 6, 6, 8, 6, 5, 5, 7, 6, 6, 5, 6, 6, 6, 5, 6, 7, 6, 6, 5, 5, 5, 5, 5, 9, 6, 5, 6, 5, 6, 6, 9, 7, 7, 6, 4, 8, 6, 6, 8, 8, 8, 8, 7, 7, 7, 7, 7, 8, 8, 5, 5, 7, 6, 7, 5, 7, 5, 7, 7, 5, 5, 7, 5, 8, 7, 6, 6, 5, 6, 7, 8, 7, 6, 5, 5, 6, 3, 5, 7, 9, 6, 6, 8, 7, 6, 6, 6, 6, 7, 6, 7, 6, 7, 6, 7, 5, 7, 7, 6, 6, 6, 6, 6, 7, 6, 5, 6, 8, 4, 4, 8, 4, 5, 5, 5, 5, 5, 4, 5, 7, 6, 6, 7, 7, 6, 6, 6, 8, 5, 5, 7, 5, 5, 7, 5, 6, 5, 5, 5, 5, 5, 6, 7, 5, 6, 7, 7, 7, 7, 5, 5, 4, 5, 5, 6, 6, 5, 6, 5, 5, 7, 7, 6, 6, 7, 6, 6, 6, 5, 6, 6, 7, 7, 7, 7, 6, 7, 6, 5, 6, 5, 7, 5, 6, 7, 6, 6, 5, 6, 6, 6, 5, 7, 6, 4, 5, 4, 6, 6, 5, 6, 6, 7, 7, 5, 6, 7, 6, 6, 6, 5, 7, 6, 6, 7, 6, 5, 5, 5, 5, 6, 6, 6, 7, 7, 8, 6, 6, 6, 6, 4, 7, 4, 6, 6, 6, 6, 3, 6, 5, 5, 7, 5, 4, 5, 4, 5, 7, 5, 5, 5, 5, 6, 5, 6, 5, 4, 5, 5, 6, 5, 6, 4, 7, 5, 5, 5, 6, 5, 6, 7, 7, 6, 7, 5, 7, 5, 6, 7, 6, 5, 5, 6, 7, 6, 6, 6, 7, 5, 8, 8, 6, 7, 6, 6, 6, 7, 5, 8, 6, 7, 6, 7, 6, 6, 5, 5, 5, 7, 8, 7, 7, 4, 7, 6, 6, 5, 4, 8, 5, 5, 5, 5, 6, 6, 7, 5, 5, 6, 7, 7, 5, 7, 6, 6, 5, 5, 5, 6, 8, 8, 5, 5, 6, 5, 5, 5, 5, 5, 5, 5, 6, 5, 5, 5, 4, 6, 4, 4, 6, 6, 6, 6, 6, 6, 7, 6, 6, 5, 5, 6, 5, 6, 6, 5, 6, 5, 6, 5, 7, 6, 5, 5, 5, 6, 5, 6, 7, 5, 5, 8, 6, 5, 6, 7, 6, 7, 6, 6, 7, 7, 6, 7, 6, 7, 5, 6, 6, 5, 6, 5, 6, 6, 6, 5, 6, 6, 6, 5, 8, 5, 8, 8, 6, 7, 6, 5, 7, 6, 7, 5, 6, 3, 6, 7, 7, 6, 6, 5, 6, 5, 7, 5, 6, 7, 7, 7, 5, 4, 7, 6, 7, 5, 7, 5, 6, 7, 5, 6, 6, 6, 6, 6, 6, 6, 6, 6, 5, 7, 8, 7, 5, 6, 7, 5, 5, 5, 6, 6, 7, 5, 6, 6, 6, 7, 5, 8, 7, 6, 7, 7, 7, 6, 6, 6, 6, 4, 4, 6, 6, 7, 6, 5, 6, 5, 6, 6, 5, 7, 8, 5, 6, 6, 6, 6, 5, 5, 6, 6, 6, 5, 6, 5, 6, 6, 6, 5, 6, 7, 6, 6, 6, 5, 5, 6, 7, 8, 6, 6, 8, 5, 5, 6, 6, 5, 6, 6, 8, 8, 7, 7, 8, 4, 7, 7, 6, 5, 5, 5, 6, 6, 8, 7, 6, 7, 7, 4, 5, 7, 6, 5, 6, 5, 6, 7, 6, 6, 7, 7, 6, 6, 7, 6, 7, 7, 6, 6, 6, 5, 7, 6, 7, 6, 6, 6, 6, 6, 7, 7, 7, 7, 7, 6, 7, 6, 8, 8, 5, 4, 8, 6, 7, 6, 6, 6, 8, 6, 6, 5, 6, 3, 5, 7, 4, 6, 5, 4, 6, 6, 6, 5, 7, 5, 4, 5, 7, 6, 5, 5, 5, 7, 5, 5, 5, 5, 5, 6, 6, 6, 6, 6, 6, 6, 6, 5, 6, 7, 5, 5, 6, 6, 6, 6, 6, 6, 6, 6, 8, 5, 6, 7, 5, 5, 7, 6, 5, 6, 4, 6, 5, 6, 6, 6, 6, 6, 6, 4, 3, 6, 6, 6, 6, 5, 6, 5, 5, 8, 8, 7, 5, 7, 6, 6, 7, 5, 5, 7, 8, 7, 6, 6, 6, 5, 5, 6, 7, 6, 7, 6, 6, 6, 6, 5, 6, 5, 5, 6, 6, 5, 6, 6, 6, 6, 5, 7, 7, 6, 6, 6, 5, 6, 6, 6, 6, 4, 6, 6, 5, 6, 6, 6, 6, 6, 6, 6, 7, 7, 7, 7, 6, 6, 4, 4, 6, 5, 7, 6, 5, 6, 5, 5, 6, 5, 5, 6, 6, 5, 4, 6, 6, 4, 5, 4, 5, 6, 7, 5, 6, 5, 5, 6, 5, 6, 6, 6, 6, 6, 6, 6, 5, 6, 6, 6, 6, 6, 5, 7, 5, 9, 6, 7, 5, 7, 6, 6, 7, 7, 5, 6, 6, 6, 6, 8, 7, 5, 6, 6, 7, 6, 6, 5, 6, 6, 5, 6, 8, 7, 6, 6, 5, 6, 5, 5, 5, 6, 7, 7, 7, 7, 6, 7, 5, 4, 7, 6, 4, 6, 5, 5, 5, 6, 5, 5, 6, 6, 7, 6, 4, 8, 5, 6, 7, 6, 6, 7, 5, 5, 6, 5, 7, 6, 6, 5, 5, 6, 7, 7, 7, 7, 5, 7, 3, 6, 4, 7, 6, 5, 6, 6, 6, 6, 6, 6, 6, 5, 4, 5, 5, 6, 6, 5, 4, 5, 5, 5, 6, 6, 5, 8, 6, 6, 4, 6, 7, 7, 6, 8, 6, 6, 6, 6, 5, 6, 6, 6, 5, 6, 6, 6, 5, 6, 5, 4, 6, 6, 6, 6, 5, 5, 5, 6, 5, 6, 6, 7, 6, 7, 6, 6, 5, 5, 5, 5, 6, 6, 7, 6, 5, 5, 5, 5, 5, 7, 6, 6, 6, 6, 6, 6, 5, 6, 8, 8, 5, 4, 6, 6, 7, 6, 7, 7, 5, 7, 5, 5, 6, 5, 5, 6, 5, 8, 6, 6, 6, 5, 6, 6, 6, 5, 5, 6, 5, 6, 6, 5, 6, 6, 7, 6, 7, 4, 6, 6, 6, 5, 7, 6, 5, 5, 5, 6, 6, 7, 7, 7, 7, 7, 6, 5, 6, 7, 6, 6, 5, 7, 6, 6, 6, 5, 5, 5, 5, 6, 7, 6, 7, 5, 7, 6, 4, 5, 5, 6, 6, 6, 7, 5, 6, 6, 6, 6, 7, 7, 6, 6, 5, 5, 5, 5, 6, 6, 6, 6, 5, 6, 5, 5, 5, 6, 5, 5, 5, 5, 5, 5, 5, 5, 5, 6, 6, 6, 6, 7, 6, 5, 6, 5, 6, 6, 5, 7, 7, 5, 5, 6, 6, 6, 6, 7, 5, 6, 6, 6, 7, 5, 5, 5, 4, 6, 6, 5, 6, 5, 6, 3, 6, 5, 6, 5, 6, 7, 5, 5, 5, 5, 5, 5, 5, 6, 6, 5, 7, 5, 5, 4, 7, 6, 5, 5, 5, 6, 6, 5, 5, 5, 5, 6, 5, 6, 6, 7, 6, 7, 6, 7, 5, 5, 5, 6, 5, 6, 6, 6, 8, 8, 8, 8, 8, 6, 6, 5, 6, 7, 4, 8, 5, 6, 6, 6, 6, 6, 6, 6, 5, 5, 6, 6, 6, 6, 6, 6, 5, 7, 6, 5, 5, 6, 5, 6, 7, 5, 7, 6, 6, 6, 6, 6, 5, 5, 5, 5, 6, 6, 6, 5, 6, 5, 5, 5, 6, 5, 5, 5, 6, 5, 6, 6, 6, 5, 5, 5, 5, 7, 3, 5, 5, 5, 5, 6, 5, 7, 5, 5, 5, 6, 5, 5, 6, 5, 5, 5, 6, 7, 6, 6, 5, 5, 6, 5, 5, 6, 6, 4, 5, 5, 6, 5, 6, 6, 5, 6, 6, 6, 5, 5, 5, 5, 5, 5, 5, 5, 6, 5, 5, 6, 5, 5, 5, 5, 5, 6, 6, 6, 5, 5, 5, 5, 6, 5, 4, 5, 6, 4, 5, 7, 5, 5, 7, 5, 5, 5, 6, 5, 5, 6, 6, 6, 6, 5, 6, 5, 5, 5, 5, 5, 5, 7, 6, 6, 6, 5, 5, 6, 6, 5, 6, 6, 4, 5, 4, 6, 6, 4, 6, 7, 6, 6, 5, 5, 5, 7, 7, 7, 7, 7, 5, 5, 7, 7, 5, 7, 5, 6, 6, 6, 5, 5, 6, 7, 5, 5, 6, 6, 6, 5, 6, 6, 6, 5, 6, 6, 5, 6, 5, 6, 5, 5, 5, 5, 6, 7, 5, 6, 7, 6, 6, 6, 5, 6, 5, 6, 6, 7, 6, 6, 7, 6, 7, 4, 5, 5, 7, 6, 7, 6, 6, 5, 5, 6, 5, 4, 6, 6, 5, 5, 5, 5, 5, 7, 4, 6, 6, 5, 6, 7, 5, 5, 6, 6, 5, 6, 5, 6, 5, 6, 6, 5, 6, 5, 5, 6, 6, 6, 7, 6, 6, 5, 7, 4, 6, 6, 6, 5, 6, 6, 5, 5, 5, 5, 5, 5, 5, 7, 7, 6, 6, 7, 7, 6, 7, 6, 8, 7, 7, 5, 5, 5, 6, 7, 5, 5, 5, 6, 5, 7, 5, 7, 6, 6, 7, 5, 4, 7, 6, 5, 6, 6, 5, 6, 5, 6, 5, 5, 6, 5, 6, 8, 5, 5, 5, 4, 5, 6, 6, 5, 8, 5, 6, 6, 4, 6, 6, 5, 5, 6, 6, 7, 6, 7, 6, 5, 5, 5, 6, 5, 6, 5, 5, 5, 5, 6, 6, 6, 7, 5, 4, 3, 6, 6, 6, 6, 5, 4, 4, 6, 8, 6, 8, 5, 4, 4, 4, 8, 8, 6, 7, 6, 5, 5, 5, 6, 6, 6, 4, 4, 6, 6, 5, 5, 6, 6, 5, 4, 6, 6, 4, 4, 4, 5, 6, 5, 5, 5, 7, 5, 5, 6, 5, 6, 6, 6, 6, 6, 5, 5, 5, 6, 6, 4, 5, 6, 5, 6, 5, 6, 5, 5, 5, 5, 5, 6, 6, 6, 5, 5, 7, 6, 5, 6, 6, 6, 6, 5, 5, 5, 5, 7, 5, 5, 5, 6, 6, 5, 5, 7, 6, 6, 7, 5, 6, 7, 6, 6, 5, 6, 6, 6, 5, 6, 5, 6, 6, 6, 6, 5, 6, 4, 4, 5, 5, 5, 5, 6, 5, 5, 4, 4, 6, 6, 6, 7, 6, 5, 6, 6, 6, 5, 7, 7, 6, 6, 7, 5, 5, 7, 8, 5, 5, 8, 7, 6, 6, 5, 6, 4, 4, 5, 7, 6, 6, 6, 6, 5, 5, 6, 5, 6, 6, 6, 5, 5, 6, 5, 5, 6, 5, 7, 7, 7, 5, 7, 7, 5, 6, 5, 6, 5, 6, 5, 7, 5, 6, 6, 5, 6, 5, 5, 5, 6, 5, 5, 7, 6, 5, 7, 7, 7, 7, 7, 7, 6, 7, 4, 6, 7, 5, 5, 7, 5, 5, 6, 5, 6, 7, 5, 6, 7, 7, 6, 6, 6, 6, 6, 5, 5, 7, 5, 5, 7, 7, 7, 7, 6, 5, 5, 7, 7, 5, 5, 7, 7, 6, 5, 6, 7, 5, 5, 5, 6, 5, 5, 6, 6, 6, 5, 5, 5, 6, 7, 7, 5, 6, 6, 5, 5, 7, 5, 5, 5, 4, 7, 7, 6, 6, 6, 6, 8, 7, 5, 7, 7, 6, 5, 7, 7, 7, 6, 7, 7, 6, 6, 5, 6, 6, 6, 6, 5, 6, 7, 6, 5, 6, 6, 6, 6, 6, 6, 6, 6, 6, 5, 6, 6, 7, 5, 5, 5, 6, 6, 6, 5, 6, 5, 5, 5, 5, 6, 6, 6, 5, 6, 6, 6, 7, 5, 7, 6, 6, 5, 6, 6, 6, 7, 5, 5, 5, 7, 6, 6, 6, 7, 5, 7, 6, 5, 6, 6, 6, 7, 6, 6, 8, 6, 8, 6, 6, 8, 5, 5, 6, 5, 6, 6, 6, 5, 5, 6, 6, 6, 6, 6, 6, 5, 7, 6, 7, 7, 8, 8, 8, 6, 7, 5, 5, 6, 6, 6, 6, 5, 6, 5, 5, 5, 6, 5, 5, 7, 5, 8, 7, 5, 7, 7, 5, 5, 6, 8, 8, 6, 5, 5, 6, 7, 7, 5, 6, 7, 7, 5, 5, 7, 4, 6, 5, 5, 5, 6, 6, 6, 6, 7, 7, 5, 5, 5, 6, 7, 6, 6, 6, 6, 7, 7, 6, 6, 6, 6, 5, 7, 7, 5, 5, 5, 5, 5, 5, 6, 6, 7, 7, 8, 7, 6, 6, 6, 6, 6, 6, 6, 7, 7, 5, 6, 7, 6, 7, 8, 7, 6, 5, 5, 6, 6, 5, 7, 5, 7, 7, 6, 5, 5, 4, 6, 8, 6, 5, 7, 7, 5, 5, 5, 5, 5, 6, 7, 5, 6, 7, 5, 5, 6, 6, 6, 5, 5, 7, 5, 6, 6, 6, 7, 6, 5, 4, 6, 8, 6, 6, 5, 8, 7, 7, 6, 8, 8, 6, 6, 5, 4, 5, 5, 8, 8, 6, 5, 5, 8, 6, 8, 6, 6, 6, 6, 5, 5, 5, 5, 7, 5, 6, 6, 5, 7, 7, 6, 5, 7, 5, 8, 6, 6, 5, 6, 5, 5, 6, 6, 6, 6, 6, 6, 6, 7, 7, 7, 6, 6, 6, 7, 7, 7, 7, 6, 7, 7, 7, 7, 7, 6, 8, 6, 7, 7, 7, 7, 7, 7, 6, 6, 6, 7, 7, 6, 5, 6, 6, 6, 6, 6, 6, 6, 8, 6, 6, 4, 5, 6, 6, 7, 6, 5, 6, 8, 8, 6, 5, 6, 6, 7, 5, 6, 6, 6, 5, 6, 6, 6, 6, 6, 6, 5, 6, 5, 4, 5, 7, 5, 6, 6, 5, 5, 5, 6, 5, 5, 8, 5, 5, 6, 5, 4, 6, 8, 8, 7, 6, 5, 5, 7, 5, 5, 5, 5, 6, 5, 6, 7, 6, 6, 7, 3, 6, 7, 6, 6, 6, 7, 6, 6, 7, 5, 7, 7, 7, 6, 6, 7, 5, 6, 6, 6, 5, 4, 6, 7, 5, 6, 6, 6, 7, 7, 7, 5, 6, 5, 6, 5, 6, 5, 7, 5, 6, 6, 6, 5, 6, 6, 6, 6, 5, 6, 6, 6, 6, 7, 6, 5, 6, 6, 6, 6, 6, 6, 6, 6, 6, 6, 6, 7, 5, 7, 7, 6, 6, 5, 7, 7, 6, 6, 6, 7, 6, 6, 6, 6, 8, 8, 8, 6, 6, 5, 6, 4, 6, 6, 5, 6, 7, 6, 4, 7, 8, 5, 7, 6, 6, 5, 5, 6, 7, 6, 7, 7, 7, 6, 7, 7, 5, 7, 7, 6, 5, 5, 5, 6, 5, 6, 6, 6, 5, 5, 4, 7, 5, 6, 6, 6, 6, 7, 6, 6, 6, 7, 6, 6, 5, 6, 6, 6, 6, 7, 5, 7, 6, 7, 6, 7, 7, 5, 6, 6, 7, 7, 6, 6, 8, 8, 5, 6, 6, 6, 6, 6, 6, 5, 7, 8, 6, 3, 6, 6, 6, 5, 5, 7, 7, 7, 5, 4, 8, 7, 5, 6, 5, 6, 7, 6, 6, 7, 7, 7, 6, 5, 5, 8, 5, 7, 6, 5, 5, 5, 6, 7, 5, 8, 6, 7, 7, 7, 7, 3, 6, 7, 7, 7, 7, 7, 6, 7, 6, 6, 7, 5, 5, 6, 7, 6, 6, 7, 5, 7, 5, 6, 6, 6, 7, 6, 6, 6, 6, 6, 6, 6, 6, 6, 5, 7, 6, 6, 6, 6, 6, 6, 6, 6, 6, 6, 7, 6, 6, 7, 6, 6, 7, 6, 6, 6, 6, 7, 6, 6, 6, 7, 6, 6, 6, 7, 5, 6, 6, 6, 8, 5, 7, 7, 7, 6, 6, 6, 8, 5, 6, 7, 6, 8, 6, 6, 5, 5, 6, 6, 5, 6, 6, 5, 6, 5, 6, 6, 6, 5, 6, 3, 7, 6, 6, 6, 7, 7, 6, 4, 6, 7, 5, 8, 8, 5, 6, 6, 6, 6, 6, 5, 6, 6, 5, 7, 6, 6, 6, 5, 5, 5, 5, 5, 7, 6, 5, 8, 6, 6, 7, 8, 7, 7, 5, 6, 5, 6, 5, 7, 7, 6, 6, 8, 6, 7, 5, 6, 6, 5, 8, 6, 8, 6, 6, 8, 6, 6, 8, 7, 6, 7, 8, 5, 8, 7, 8, 7, 6, 6, 6, 8, 7, 6, 7, 7, 6, 7, 7, 6, 6, 7, 7, 6, 5, 7, 7, 7, 6, 7, 5, 6, 6, 7, 6, 6, 6, 7, 7, 7, 5, 7, 5, 7, 5, 5, 6, 6, 6, 6, 4, 7, 5, 5, 6, 6, 5, 5, 6, 5, 7, 6, 6, 6, 6, 6, 6, 6, 6, 6, 6, 6, 6, 6, 6, 6, 6, 6, 7, 6, 6, 4, 6, 5, 6, 5, 6, 6, 6, 6, 7, 6, 6, 4, 6, 6, 6, 7, 5, 7, 4, 7, 5, 7, 6, 6, 7, 7, 7, 6, 6, 6, 7, 5, 7, 7, 7, 7, 7, 6, 7, 6, 6, 7, 6, 7, 6, 5, 5, 6, 6, 6, 5, 6, 6, 6, 5, 6, 5, 5, 7, 6, 7, 7, 6, 6, 7, 5, 5, 5, 6, 6, 6, 6, 6, 6, 7, 6, 7, 7, 7, 6, 6, 6, 6, 6, 7, 6, 7, 7, 5, 6, 4, 6, 6, 6, 6, 7, 7, 8, 7, 8, 8, 6, 4, 6, 8, 8, 7, 8, 5, 7, 6, 7, 8, 7, 5, 6, 7, 6, 5, 7, 6, 8, 7, 6, 7, 6, 5, 5, 6, 8, 7, 6, 7, 7, 5, 6, 7, 6, 6, 5, 5, 5, 6, 6, 6, 6, 6, 6, 5, 5, 5, 6, 5, 5, 4, 6, 5, 6, 5, 5, 7, 5, 5, 7, 6, 6, 7, 7, 7, 5, 6, 6, 5, 6, 5, 6, 4, 5, 6, 7, 7, 7, 7, 7, 7, 7, 5, 6, 5, 6, 7, 5, 5, 5, 8, 6, 5, 5, 5, 6, 6, 7, 5, 5, 8, 5, 5, 5, 6, 5, 4, 6, 6, 5, 5, 6, 5, 6, 7, 7, 5, 6, 6, 5, 6, 7, 5, 5, 5, 6, 5, 5, 6, 6, 5, 6, 6, 5, 5, 5, 5, 6, 5, 6, 5, 6, 5, 5, 6, 6, 3, 5, 5, 5, 5, 7, 5, 6, 6, 6, 5, 6, 6, 5, 7, 6, 6, 5, 6, 7, 7, 5, 5, 6, 5, 5, 6, 6, 5, 5, 6, 6, 6, 7, 6, 5, 6, 5, 6, 5, 6, 7, 6, 7, 6, 6, 6, 6, 6, 5, 5, 6, 6, 6, 7, 6, 6, 5, 6, 6, 6, 6, 4, 5, 5, 7, 5, 5, 5, 4, 6, 6, 5, 6, 6, 6, 6, 6, 6, 6, 6, 5, 5, 5, 6, 6, 6, 6, 7, 5, 5, 4, 6, 6, 7, 7, 7, 7, 7, 7, 6, 6, 7, 6, 7, 7, 6, 5, 7, 6, 6, 5, 7, 5, 5, 5, 6, 5, 5, 5, 6, 6, 8, 4, 6, 5, 6, 5, 6, 6, 5, 5, 6, 6, 6, 6, 6, 7, 5, 5, 5, 5, 6, 7, 5, 6, 5, 5, 6, 6, 6, 5, 7, 7, 5, 4, 6, 4, 6, 6, 7, 6, 6, 4, 6, 7, 7, 6, 7, 6, 5, 7, 7, 6, 7, 6, 6, 6, 6, 6, 6, 5, 7, 7, 7, 5, 7, 7, 6, 6]\n"
          ]
        }
      ]
    },
    {
      "cell_type": "code",
      "source": [
        "mse = np.mean(y_train_predictions - y_train.squeeze())**2\n",
        "print(\"MSE = \", mse)\n",
        "accuracy = np.mean(y_train_predictions == y_train.squeeze())\n",
        "print(\"Accuracy = \", accuracy)"
      ],
      "metadata": {
        "colab": {
          "base_uri": "https://localhost:8080/"
        },
        "id": "b706rUGiRhoc",
        "outputId": "cdc8da86-c93e-40bf-8772-397d5367d257"
      },
      "execution_count": 60,
      "outputs": [
        {
          "output_type": "stream",
          "name": "stdout",
          "text": [
            "MSE =  0.0\n",
            "Accuracy =  1.0\n"
          ]
        }
      ]
    },
    {
      "cell_type": "markdown",
      "source": [
        "Why is that?"
      ],
      "metadata": {
        "id": "XXt1DV4SSqN9"
      }
    },
    {
      "cell_type": "markdown",
      "source": [
        "Doing the same using scikit-learn:"
      ],
      "metadata": {
        "id": "4OCYISikSsxz"
      }
    },
    {
      "cell_type": "markdown",
      "source": [],
      "metadata": {
        "id": "rXpnsqr2Svg_"
      }
    },
    {
      "cell_type": "code",
      "source": [
        "from sklearn.neighbors import KNeighborsRegressor\n",
        "from sklearn.metrics import mean_squared_error, accuracy_score\n",
        "\n",
        "model = KNeighborsRegressor(n_neighbors=1)\n",
        "model.fit(X_train, y_train)"
      ],
      "metadata": {
        "colab": {
          "base_uri": "https://localhost:8080/",
          "height": 80
        },
        "id": "Kf50H5nvS0uv",
        "outputId": "708a8f4b-8454-42b4-a778-71bc40f0d964"
      },
      "execution_count": 72,
      "outputs": [
        {
          "output_type": "execute_result",
          "data": {
            "text/plain": [
              "KNeighborsRegressor(n_neighbors=1)"
            ],
            "text/html": [
              "<style>#sk-container-id-4 {\n",
              "  /* Definition of color scheme common for light and dark mode */\n",
              "  --sklearn-color-text: #000;\n",
              "  --sklearn-color-text-muted: #666;\n",
              "  --sklearn-color-line: gray;\n",
              "  /* Definition of color scheme for unfitted estimators */\n",
              "  --sklearn-color-unfitted-level-0: #fff5e6;\n",
              "  --sklearn-color-unfitted-level-1: #f6e4d2;\n",
              "  --sklearn-color-unfitted-level-2: #ffe0b3;\n",
              "  --sklearn-color-unfitted-level-3: chocolate;\n",
              "  /* Definition of color scheme for fitted estimators */\n",
              "  --sklearn-color-fitted-level-0: #f0f8ff;\n",
              "  --sklearn-color-fitted-level-1: #d4ebff;\n",
              "  --sklearn-color-fitted-level-2: #b3dbfd;\n",
              "  --sklearn-color-fitted-level-3: cornflowerblue;\n",
              "\n",
              "  /* Specific color for light theme */\n",
              "  --sklearn-color-text-on-default-background: var(--sg-text-color, var(--theme-code-foreground, var(--jp-content-font-color1, black)));\n",
              "  --sklearn-color-background: var(--sg-background-color, var(--theme-background, var(--jp-layout-color0, white)));\n",
              "  --sklearn-color-border-box: var(--sg-text-color, var(--theme-code-foreground, var(--jp-content-font-color1, black)));\n",
              "  --sklearn-color-icon: #696969;\n",
              "\n",
              "  @media (prefers-color-scheme: dark) {\n",
              "    /* Redefinition of color scheme for dark theme */\n",
              "    --sklearn-color-text-on-default-background: var(--sg-text-color, var(--theme-code-foreground, var(--jp-content-font-color1, white)));\n",
              "    --sklearn-color-background: var(--sg-background-color, var(--theme-background, var(--jp-layout-color0, #111)));\n",
              "    --sklearn-color-border-box: var(--sg-text-color, var(--theme-code-foreground, var(--jp-content-font-color1, white)));\n",
              "    --sklearn-color-icon: #878787;\n",
              "  }\n",
              "}\n",
              "\n",
              "#sk-container-id-4 {\n",
              "  color: var(--sklearn-color-text);\n",
              "}\n",
              "\n",
              "#sk-container-id-4 pre {\n",
              "  padding: 0;\n",
              "}\n",
              "\n",
              "#sk-container-id-4 input.sk-hidden--visually {\n",
              "  border: 0;\n",
              "  clip: rect(1px 1px 1px 1px);\n",
              "  clip: rect(1px, 1px, 1px, 1px);\n",
              "  height: 1px;\n",
              "  margin: -1px;\n",
              "  overflow: hidden;\n",
              "  padding: 0;\n",
              "  position: absolute;\n",
              "  width: 1px;\n",
              "}\n",
              "\n",
              "#sk-container-id-4 div.sk-dashed-wrapped {\n",
              "  border: 1px dashed var(--sklearn-color-line);\n",
              "  margin: 0 0.4em 0.5em 0.4em;\n",
              "  box-sizing: border-box;\n",
              "  padding-bottom: 0.4em;\n",
              "  background-color: var(--sklearn-color-background);\n",
              "}\n",
              "\n",
              "#sk-container-id-4 div.sk-container {\n",
              "  /* jupyter's `normalize.less` sets `[hidden] { display: none; }`\n",
              "     but bootstrap.min.css set `[hidden] { display: none !important; }`\n",
              "     so we also need the `!important` here to be able to override the\n",
              "     default hidden behavior on the sphinx rendered scikit-learn.org.\n",
              "     See: https://github.com/scikit-learn/scikit-learn/issues/21755 */\n",
              "  display: inline-block !important;\n",
              "  position: relative;\n",
              "}\n",
              "\n",
              "#sk-container-id-4 div.sk-text-repr-fallback {\n",
              "  display: none;\n",
              "}\n",
              "\n",
              "div.sk-parallel-item,\n",
              "div.sk-serial,\n",
              "div.sk-item {\n",
              "  /* draw centered vertical line to link estimators */\n",
              "  background-image: linear-gradient(var(--sklearn-color-text-on-default-background), var(--sklearn-color-text-on-default-background));\n",
              "  background-size: 2px 100%;\n",
              "  background-repeat: no-repeat;\n",
              "  background-position: center center;\n",
              "}\n",
              "\n",
              "/* Parallel-specific style estimator block */\n",
              "\n",
              "#sk-container-id-4 div.sk-parallel-item::after {\n",
              "  content: \"\";\n",
              "  width: 100%;\n",
              "  border-bottom: 2px solid var(--sklearn-color-text-on-default-background);\n",
              "  flex-grow: 1;\n",
              "}\n",
              "\n",
              "#sk-container-id-4 div.sk-parallel {\n",
              "  display: flex;\n",
              "  align-items: stretch;\n",
              "  justify-content: center;\n",
              "  background-color: var(--sklearn-color-background);\n",
              "  position: relative;\n",
              "}\n",
              "\n",
              "#sk-container-id-4 div.sk-parallel-item {\n",
              "  display: flex;\n",
              "  flex-direction: column;\n",
              "}\n",
              "\n",
              "#sk-container-id-4 div.sk-parallel-item:first-child::after {\n",
              "  align-self: flex-end;\n",
              "  width: 50%;\n",
              "}\n",
              "\n",
              "#sk-container-id-4 div.sk-parallel-item:last-child::after {\n",
              "  align-self: flex-start;\n",
              "  width: 50%;\n",
              "}\n",
              "\n",
              "#sk-container-id-4 div.sk-parallel-item:only-child::after {\n",
              "  width: 0;\n",
              "}\n",
              "\n",
              "/* Serial-specific style estimator block */\n",
              "\n",
              "#sk-container-id-4 div.sk-serial {\n",
              "  display: flex;\n",
              "  flex-direction: column;\n",
              "  align-items: center;\n",
              "  background-color: var(--sklearn-color-background);\n",
              "  padding-right: 1em;\n",
              "  padding-left: 1em;\n",
              "}\n",
              "\n",
              "\n",
              "/* Toggleable style: style used for estimator/Pipeline/ColumnTransformer box that is\n",
              "clickable and can be expanded/collapsed.\n",
              "- Pipeline and ColumnTransformer use this feature and define the default style\n",
              "- Estimators will overwrite some part of the style using the `sk-estimator` class\n",
              "*/\n",
              "\n",
              "/* Pipeline and ColumnTransformer style (default) */\n",
              "\n",
              "#sk-container-id-4 div.sk-toggleable {\n",
              "  /* Default theme specific background. It is overwritten whether we have a\n",
              "  specific estimator or a Pipeline/ColumnTransformer */\n",
              "  background-color: var(--sklearn-color-background);\n",
              "}\n",
              "\n",
              "/* Toggleable label */\n",
              "#sk-container-id-4 label.sk-toggleable__label {\n",
              "  cursor: pointer;\n",
              "  display: flex;\n",
              "  width: 100%;\n",
              "  margin-bottom: 0;\n",
              "  padding: 0.5em;\n",
              "  box-sizing: border-box;\n",
              "  text-align: center;\n",
              "  align-items: start;\n",
              "  justify-content: space-between;\n",
              "  gap: 0.5em;\n",
              "}\n",
              "\n",
              "#sk-container-id-4 label.sk-toggleable__label .caption {\n",
              "  font-size: 0.6rem;\n",
              "  font-weight: lighter;\n",
              "  color: var(--sklearn-color-text-muted);\n",
              "}\n",
              "\n",
              "#sk-container-id-4 label.sk-toggleable__label-arrow:before {\n",
              "  /* Arrow on the left of the label */\n",
              "  content: \"▸\";\n",
              "  float: left;\n",
              "  margin-right: 0.25em;\n",
              "  color: var(--sklearn-color-icon);\n",
              "}\n",
              "\n",
              "#sk-container-id-4 label.sk-toggleable__label-arrow:hover:before {\n",
              "  color: var(--sklearn-color-text);\n",
              "}\n",
              "\n",
              "/* Toggleable content - dropdown */\n",
              "\n",
              "#sk-container-id-4 div.sk-toggleable__content {\n",
              "  max-height: 0;\n",
              "  max-width: 0;\n",
              "  overflow: hidden;\n",
              "  text-align: left;\n",
              "  /* unfitted */\n",
              "  background-color: var(--sklearn-color-unfitted-level-0);\n",
              "}\n",
              "\n",
              "#sk-container-id-4 div.sk-toggleable__content.fitted {\n",
              "  /* fitted */\n",
              "  background-color: var(--sklearn-color-fitted-level-0);\n",
              "}\n",
              "\n",
              "#sk-container-id-4 div.sk-toggleable__content pre {\n",
              "  margin: 0.2em;\n",
              "  border-radius: 0.25em;\n",
              "  color: var(--sklearn-color-text);\n",
              "  /* unfitted */\n",
              "  background-color: var(--sklearn-color-unfitted-level-0);\n",
              "}\n",
              "\n",
              "#sk-container-id-4 div.sk-toggleable__content.fitted pre {\n",
              "  /* unfitted */\n",
              "  background-color: var(--sklearn-color-fitted-level-0);\n",
              "}\n",
              "\n",
              "#sk-container-id-4 input.sk-toggleable__control:checked~div.sk-toggleable__content {\n",
              "  /* Expand drop-down */\n",
              "  max-height: 200px;\n",
              "  max-width: 100%;\n",
              "  overflow: auto;\n",
              "}\n",
              "\n",
              "#sk-container-id-4 input.sk-toggleable__control:checked~label.sk-toggleable__label-arrow:before {\n",
              "  content: \"▾\";\n",
              "}\n",
              "\n",
              "/* Pipeline/ColumnTransformer-specific style */\n",
              "\n",
              "#sk-container-id-4 div.sk-label input.sk-toggleable__control:checked~label.sk-toggleable__label {\n",
              "  color: var(--sklearn-color-text);\n",
              "  background-color: var(--sklearn-color-unfitted-level-2);\n",
              "}\n",
              "\n",
              "#sk-container-id-4 div.sk-label.fitted input.sk-toggleable__control:checked~label.sk-toggleable__label {\n",
              "  background-color: var(--sklearn-color-fitted-level-2);\n",
              "}\n",
              "\n",
              "/* Estimator-specific style */\n",
              "\n",
              "/* Colorize estimator box */\n",
              "#sk-container-id-4 div.sk-estimator input.sk-toggleable__control:checked~label.sk-toggleable__label {\n",
              "  /* unfitted */\n",
              "  background-color: var(--sklearn-color-unfitted-level-2);\n",
              "}\n",
              "\n",
              "#sk-container-id-4 div.sk-estimator.fitted input.sk-toggleable__control:checked~label.sk-toggleable__label {\n",
              "  /* fitted */\n",
              "  background-color: var(--sklearn-color-fitted-level-2);\n",
              "}\n",
              "\n",
              "#sk-container-id-4 div.sk-label label.sk-toggleable__label,\n",
              "#sk-container-id-4 div.sk-label label {\n",
              "  /* The background is the default theme color */\n",
              "  color: var(--sklearn-color-text-on-default-background);\n",
              "}\n",
              "\n",
              "/* On hover, darken the color of the background */\n",
              "#sk-container-id-4 div.sk-label:hover label.sk-toggleable__label {\n",
              "  color: var(--sklearn-color-text);\n",
              "  background-color: var(--sklearn-color-unfitted-level-2);\n",
              "}\n",
              "\n",
              "/* Label box, darken color on hover, fitted */\n",
              "#sk-container-id-4 div.sk-label.fitted:hover label.sk-toggleable__label.fitted {\n",
              "  color: var(--sklearn-color-text);\n",
              "  background-color: var(--sklearn-color-fitted-level-2);\n",
              "}\n",
              "\n",
              "/* Estimator label */\n",
              "\n",
              "#sk-container-id-4 div.sk-label label {\n",
              "  font-family: monospace;\n",
              "  font-weight: bold;\n",
              "  display: inline-block;\n",
              "  line-height: 1.2em;\n",
              "}\n",
              "\n",
              "#sk-container-id-4 div.sk-label-container {\n",
              "  text-align: center;\n",
              "}\n",
              "\n",
              "/* Estimator-specific */\n",
              "#sk-container-id-4 div.sk-estimator {\n",
              "  font-family: monospace;\n",
              "  border: 1px dotted var(--sklearn-color-border-box);\n",
              "  border-radius: 0.25em;\n",
              "  box-sizing: border-box;\n",
              "  margin-bottom: 0.5em;\n",
              "  /* unfitted */\n",
              "  background-color: var(--sklearn-color-unfitted-level-0);\n",
              "}\n",
              "\n",
              "#sk-container-id-4 div.sk-estimator.fitted {\n",
              "  /* fitted */\n",
              "  background-color: var(--sklearn-color-fitted-level-0);\n",
              "}\n",
              "\n",
              "/* on hover */\n",
              "#sk-container-id-4 div.sk-estimator:hover {\n",
              "  /* unfitted */\n",
              "  background-color: var(--sklearn-color-unfitted-level-2);\n",
              "}\n",
              "\n",
              "#sk-container-id-4 div.sk-estimator.fitted:hover {\n",
              "  /* fitted */\n",
              "  background-color: var(--sklearn-color-fitted-level-2);\n",
              "}\n",
              "\n",
              "/* Specification for estimator info (e.g. \"i\" and \"?\") */\n",
              "\n",
              "/* Common style for \"i\" and \"?\" */\n",
              "\n",
              ".sk-estimator-doc-link,\n",
              "a:link.sk-estimator-doc-link,\n",
              "a:visited.sk-estimator-doc-link {\n",
              "  float: right;\n",
              "  font-size: smaller;\n",
              "  line-height: 1em;\n",
              "  font-family: monospace;\n",
              "  background-color: var(--sklearn-color-background);\n",
              "  border-radius: 1em;\n",
              "  height: 1em;\n",
              "  width: 1em;\n",
              "  text-decoration: none !important;\n",
              "  margin-left: 0.5em;\n",
              "  text-align: center;\n",
              "  /* unfitted */\n",
              "  border: var(--sklearn-color-unfitted-level-1) 1pt solid;\n",
              "  color: var(--sklearn-color-unfitted-level-1);\n",
              "}\n",
              "\n",
              ".sk-estimator-doc-link.fitted,\n",
              "a:link.sk-estimator-doc-link.fitted,\n",
              "a:visited.sk-estimator-doc-link.fitted {\n",
              "  /* fitted */\n",
              "  border: var(--sklearn-color-fitted-level-1) 1pt solid;\n",
              "  color: var(--sklearn-color-fitted-level-1);\n",
              "}\n",
              "\n",
              "/* On hover */\n",
              "div.sk-estimator:hover .sk-estimator-doc-link:hover,\n",
              ".sk-estimator-doc-link:hover,\n",
              "div.sk-label-container:hover .sk-estimator-doc-link:hover,\n",
              ".sk-estimator-doc-link:hover {\n",
              "  /* unfitted */\n",
              "  background-color: var(--sklearn-color-unfitted-level-3);\n",
              "  color: var(--sklearn-color-background);\n",
              "  text-decoration: none;\n",
              "}\n",
              "\n",
              "div.sk-estimator.fitted:hover .sk-estimator-doc-link.fitted:hover,\n",
              ".sk-estimator-doc-link.fitted:hover,\n",
              "div.sk-label-container:hover .sk-estimator-doc-link.fitted:hover,\n",
              ".sk-estimator-doc-link.fitted:hover {\n",
              "  /* fitted */\n",
              "  background-color: var(--sklearn-color-fitted-level-3);\n",
              "  color: var(--sklearn-color-background);\n",
              "  text-decoration: none;\n",
              "}\n",
              "\n",
              "/* Span, style for the box shown on hovering the info icon */\n",
              ".sk-estimator-doc-link span {\n",
              "  display: none;\n",
              "  z-index: 9999;\n",
              "  position: relative;\n",
              "  font-weight: normal;\n",
              "  right: .2ex;\n",
              "  padding: .5ex;\n",
              "  margin: .5ex;\n",
              "  width: min-content;\n",
              "  min-width: 20ex;\n",
              "  max-width: 50ex;\n",
              "  color: var(--sklearn-color-text);\n",
              "  box-shadow: 2pt 2pt 4pt #999;\n",
              "  /* unfitted */\n",
              "  background: var(--sklearn-color-unfitted-level-0);\n",
              "  border: .5pt solid var(--sklearn-color-unfitted-level-3);\n",
              "}\n",
              "\n",
              ".sk-estimator-doc-link.fitted span {\n",
              "  /* fitted */\n",
              "  background: var(--sklearn-color-fitted-level-0);\n",
              "  border: var(--sklearn-color-fitted-level-3);\n",
              "}\n",
              "\n",
              ".sk-estimator-doc-link:hover span {\n",
              "  display: block;\n",
              "}\n",
              "\n",
              "/* \"?\"-specific style due to the `<a>` HTML tag */\n",
              "\n",
              "#sk-container-id-4 a.estimator_doc_link {\n",
              "  float: right;\n",
              "  font-size: 1rem;\n",
              "  line-height: 1em;\n",
              "  font-family: monospace;\n",
              "  background-color: var(--sklearn-color-background);\n",
              "  border-radius: 1rem;\n",
              "  height: 1rem;\n",
              "  width: 1rem;\n",
              "  text-decoration: none;\n",
              "  /* unfitted */\n",
              "  color: var(--sklearn-color-unfitted-level-1);\n",
              "  border: var(--sklearn-color-unfitted-level-1) 1pt solid;\n",
              "}\n",
              "\n",
              "#sk-container-id-4 a.estimator_doc_link.fitted {\n",
              "  /* fitted */\n",
              "  border: var(--sklearn-color-fitted-level-1) 1pt solid;\n",
              "  color: var(--sklearn-color-fitted-level-1);\n",
              "}\n",
              "\n",
              "/* On hover */\n",
              "#sk-container-id-4 a.estimator_doc_link:hover {\n",
              "  /* unfitted */\n",
              "  background-color: var(--sklearn-color-unfitted-level-3);\n",
              "  color: var(--sklearn-color-background);\n",
              "  text-decoration: none;\n",
              "}\n",
              "\n",
              "#sk-container-id-4 a.estimator_doc_link.fitted:hover {\n",
              "  /* fitted */\n",
              "  background-color: var(--sklearn-color-fitted-level-3);\n",
              "}\n",
              "</style><div id=\"sk-container-id-4\" class=\"sk-top-container\"><div class=\"sk-text-repr-fallback\"><pre>KNeighborsRegressor(n_neighbors=1)</pre><b>In a Jupyter environment, please rerun this cell to show the HTML representation or trust the notebook. <br />On GitHub, the HTML representation is unable to render, please try loading this page with nbviewer.org.</b></div><div class=\"sk-container\" hidden><div class=\"sk-item\"><div class=\"sk-estimator fitted sk-toggleable\"><input class=\"sk-toggleable__control sk-hidden--visually\" id=\"sk-estimator-id-4\" type=\"checkbox\" checked><label for=\"sk-estimator-id-4\" class=\"sk-toggleable__label fitted sk-toggleable__label-arrow\"><div><div>KNeighborsRegressor</div></div><div><a class=\"sk-estimator-doc-link fitted\" rel=\"noreferrer\" target=\"_blank\" href=\"https://scikit-learn.org/1.6/modules/generated/sklearn.neighbors.KNeighborsRegressor.html\">?<span>Documentation for KNeighborsRegressor</span></a><span class=\"sk-estimator-doc-link fitted\">i<span>Fitted</span></span></div></label><div class=\"sk-toggleable__content fitted\"><pre>KNeighborsRegressor(n_neighbors=1)</pre></div> </div></div></div></div>"
            ]
          },
          "metadata": {},
          "execution_count": 72
        }
      ]
    },
    {
      "cell_type": "code",
      "source": [
        "y_test_predictions = model.predict(X_test)\n",
        "\n",
        "print(\"Test mse: \", mean_squared_error(y_test, y_test_predictions))\n",
        "print(\"Test accuracy: \", accuracy_score(y_test, y_test_predictions))\n",
        "\n",
        "y_train_predictions = model.predict(X_train)\n",
        "\n",
        "print(\"Test mse: \", mean_squared_error(y_train, y_train_predictions))\n",
        "print(\"Test accuracy: \", accuracy_score(y_train, y_train_predictions))\n",
        "\n"
      ],
      "metadata": {
        "colab": {
          "base_uri": "https://localhost:8080/"
        },
        "id": "cLanrv2PS9ep",
        "outputId": "8d8a1f9d-8b34-4a97-c0d7-124bd6366350"
      },
      "execution_count": 73,
      "outputs": [
        {
          "output_type": "stream",
          "name": "stdout",
          "text": [
            "Test mse:  1.133630289532294\n",
            "Test accuracy:  0.4053452115812918\n",
            "Test mse:  0.0\n",
            "Test accuracy:  1.0\n"
          ]
        }
      ]
    },
    {
      "cell_type": "markdown",
      "source": [
        "What about different k-s?\n"
      ],
      "metadata": {
        "id": "csNqYpOyTiPS"
      }
    },
    {
      "cell_type": "code",
      "source": [
        "for k in [1, 3, 5, 7, 9, 11]:\n",
        "  print(\"---------------------------\")\n",
        "  print(\"Evaluating for k = \", k)\n",
        "  model = KNeighborsRegressor(n_neighbors=k)\n",
        "  model.fit(X_train, y_train)\n",
        "  y_test_predictions = model.predict(X_test)\n",
        "\n",
        "  print(\"Test mse: \", mean_squared_error(y_test, y_test_predictions))\n",
        "  y_test_predictions = y_test_predictions.round()\n",
        "  print(\"Test accuracy: \", accuracy_score(y_test, y_test_predictions))\n",
        "  y_train_predictions = model.predict(X_train)\n",
        "\n",
        "  print(\"Test mse: \", mean_squared_error(y_train, y_train_predictions))\n",
        "  y_train_predictions = y_train_predictions.round()\n",
        "  print(\"Test accuracy: \", accuracy_score(y_train, y_train_predictions))\n"
      ],
      "metadata": {
        "colab": {
          "base_uri": "https://localhost:8080/"
        },
        "id": "is9GDFPLTkZU",
        "outputId": "8f4b40d3-0b98-423b-c0b2-d1b49b2911fd"
      },
      "execution_count": 79,
      "outputs": [
        {
          "output_type": "stream",
          "name": "stdout",
          "text": [
            "---------------------------\n",
            "Evaluating for k =  1\n",
            "Test mse:  1.133630289532294\n",
            "Test accuracy:  0.4053452115812918\n",
            "Test mse:  0.0\n",
            "Test accuracy:  1.0\n",
            "---------------------------\n",
            "Evaluating for k =  3\n",
            "Test mse:  0.7876763177431328\n",
            "Test accuracy:  0.4209354120267261\n",
            "Test mse:  0.3187499999999999\n",
            "Test accuracy:  0.6715\n",
            "---------------------------\n",
            "Evaluating for k =  5\n",
            "Test mse:  0.7103340757238308\n",
            "Test accuracy:  0.4510022271714922\n",
            "Test mse:  0.43013\n",
            "Test accuracy:  0.59425\n",
            "---------------------------\n",
            "Evaluating for k =  7\n",
            "Test mse:  0.6604472523976183\n",
            "Test accuracy:  0.4910913140311804\n",
            "Test mse:  0.48509183673469386\n",
            "Test accuracy:  0.54575\n",
            "---------------------------\n",
            "Evaluating for k =  9\n",
            "Test mse:  0.6335890456157718\n",
            "Test accuracy:  0.5022271714922049\n",
            "Test mse:  0.5297438271604937\n",
            "Test accuracy:  0.5185\n",
            "---------------------------\n",
            "Evaluating for k =  11\n",
            "Test mse:  0.6222459459956929\n",
            "Test accuracy:  0.49888641425389757\n",
            "Test mse:  0.5568822314049587\n",
            "Test accuracy:  0.511\n"
          ]
        }
      ]
    },
    {
      "cell_type": "markdown",
      "source": [
        "What is the effect of normalizing the data?\n"
      ],
      "metadata": {
        "id": "wCFaTfFuUL_M"
      }
    },
    {
      "cell_type": "code",
      "source": [
        "from sklearn.preprocessing import MinMaxScaler, StandardScaler\n",
        "\n",
        "scaler = MinMaxScaler()\n",
        "X_train = scaler.fit_transform(X_train)\n",
        "# This is very important!\n",
        "X_test = scaler.transform(X_test)\n",
        "\n",
        "for k in [1, 3, 5, 7, 9, 11]:\n",
        "  print(\"---------------------------\")\n",
        "  print(\"Evaluating for k = \", k)\n",
        "  model = KNeighborsRegressor(n_neighbors=k)\n",
        "  model.fit(X_train, y_train)\n",
        "  y_test_predictions = model.predict(X_test)\n",
        "\n",
        "  print(\"Test mse: \", mean_squared_error(y_test, y_test_predictions))\n",
        "  y_test_predictions = y_test_predictions.round()\n",
        "  print(\"Test accuracy: \", accuracy_score(y_test, y_test_predictions))\n",
        "  y_train_predictions = model.predict(X_train)\n",
        "\n",
        "  print(\"Test mse: \", mean_squared_error(y_train, y_train_predictions))\n",
        "  y_train_predictions = y_train_predictions.round()\n",
        "  print(\"Test accuracy: \", accuracy_score(y_train, y_train_predictions))\n"
      ],
      "metadata": {
        "colab": {
          "base_uri": "https://localhost:8080/"
        },
        "id": "vxSFAzytUOCS",
        "outputId": "a135cd7b-753b-4cef-de6c-506da59c863b"
      },
      "execution_count": 81,
      "outputs": [
        {
          "output_type": "stream",
          "name": "stdout",
          "text": [
            "---------------------------\n",
            "Evaluating for k =  1\n",
            "Test mse:  0.8151447661469933\n",
            "Test accuracy:  0.46325167037861914\n",
            "Test mse:  0.0\n",
            "Test accuracy:  1.0\n",
            "---------------------------\n",
            "Evaluating for k =  3\n",
            "Test mse:  0.5942835931700073\n",
            "Test accuracy:  0.5055679287305123\n",
            "Test mse:  0.2385833333333333\n",
            "Test accuracy:  0.73875\n",
            "---------------------------\n",
            "Evaluating for k =  5\n",
            "Test mse:  0.5549220489977729\n",
            "Test accuracy:  0.5367483296213809\n",
            "Test mse:  0.3303399999999999\n",
            "Test accuracy:  0.65475\n",
            "---------------------------\n",
            "Evaluating for k =  7\n",
            "Test mse:  0.5185218853688469\n",
            "Test accuracy:  0.5400890868596881\n",
            "Test mse:  0.38024489795918365\n",
            "Test accuracy:  0.6235\n",
            "---------------------------\n",
            "Evaluating for k =  9\n",
            "Test mse:  0.49133877753031424\n",
            "Test accuracy:  0.5512249443207127\n",
            "Test mse:  0.41006481481481477\n",
            "Test accuracy:  0.604\n",
            "---------------------------\n",
            "Evaluating for k =  11\n",
            "Test mse:  0.4831121500487768\n",
            "Test accuracy:  0.5512249443207127\n",
            "Test mse:  0.4294896694214876\n",
            "Test accuracy:  0.59025\n"
          ]
        }
      ]
    },
    {
      "cell_type": "code",
      "source": [
        "scaler = StandardScaler()\n",
        "X_train = scaler.fit_transform(X_train)\n",
        "# This is very important!\n",
        "X_test = scaler.transform(X_test)\n",
        "\n",
        "for k in [1, 3, 5, 7, 9, 11]:\n",
        "  print(\"---------------------------\")\n",
        "  print(\"Evaluating for k = \", k)\n",
        "  model = KNeighborsRegressor(n_neighbors=k)\n",
        "  model.fit(X_train, y_train)\n",
        "  y_test_predictions = model.predict(X_test)\n",
        "\n",
        "  print(\"Test mse: \", mean_squared_error(y_test, y_test_predictions))\n",
        "  y_test_predictions = y_test_predictions.round()\n",
        "  print(\"Test accuracy: \", accuracy_score(y_test, y_test_predictions))\n",
        "  y_train_predictions = model.predict(X_train)\n",
        "\n",
        "  print(\"Test mse: \", mean_squared_error(y_train, y_train_predictions))\n",
        "  y_train_predictions = y_train_predictions.round()\n",
        "  print(\"Test accuracy: \", accuracy_score(y_train, y_train_predictions))"
      ],
      "metadata": {
        "colab": {
          "base_uri": "https://localhost:8080/"
        },
        "id": "Y9wwG4xJUfB7",
        "outputId": "01cca646-8818-4a59-f2b9-19d6ab4c6acc"
      },
      "execution_count": 82,
      "outputs": [
        {
          "output_type": "stream",
          "name": "stdout",
          "text": [
            "---------------------------\n",
            "Evaluating for k =  1\n",
            "Test mse:  0.8296213808463252\n",
            "Test accuracy:  0.46325167037861914\n",
            "Test mse:  0.0\n",
            "Test accuracy:  1.0\n",
            "---------------------------\n",
            "Evaluating for k =  3\n",
            "Test mse:  0.5812917594654788\n",
            "Test accuracy:  0.5133630289532294\n",
            "Test mse:  0.24341666666666664\n",
            "Test accuracy:  0.74125\n",
            "---------------------------\n",
            "Evaluating for k =  5\n",
            "Test mse:  0.5269933184855234\n",
            "Test accuracy:  0.5144766146993318\n",
            "Test mse:  0.34126999999999996\n",
            "Test accuracy:  0.662\n",
            "---------------------------\n",
            "Evaluating for k =  7\n",
            "Test mse:  0.48911413117585567\n",
            "Test accuracy:  0.5434298440979956\n",
            "Test mse:  0.3830612244897959\n",
            "Test accuracy:  0.62725\n",
            "---------------------------\n",
            "Evaluating for k =  9\n",
            "Test mse:  0.465602573620391\n",
            "Test accuracy:  0.5456570155902004\n",
            "Test mse:  0.4093302469135802\n",
            "Test accuracy:  0.6015\n",
            "---------------------------\n",
            "Evaluating for k =  11\n",
            "Test mse:  0.4573708332566401\n",
            "Test accuracy:  0.5523385300668151\n",
            "Test mse:  0.4259111570247933\n",
            "Test accuracy:  0.60425\n"
          ]
        }
      ]
    }
  ]
}