{
 "cells": [
  {
   "metadata": {},
   "cell_type": "markdown",
   "source": "# Using PyTorch to perform time-series forecasting",
   "id": "effafa5c290ca79"
  },
  {
   "metadata": {},
   "cell_type": "markdown",
   "source": "Let's load a PV forecasting dataset:",
   "id": "fb14a5a91e71c1dd"
  },
  {
   "metadata": {
    "ExecuteTime": {
     "end_time": "2025-01-29T08:17:16.800323Z",
     "start_time": "2025-01-29T08:17:15.239264Z"
    }
   },
   "cell_type": "code",
   "source": [
    "from chelo import DatasetRegistry\n",
    "\n",
    "#Load and prepare the train dataset\n",
    "features = ['temperature', 'radiation_direct_horizontal', 'radiation_diffuse_horizontal',\n",
    "                'solar_generation_actual']\n",
    "train_dataset = DatasetRegistry.get_dataset(\"OPSDPVDataset\", end_date='2018-12-31 00:00:00',\n",
    "                                            selected_features=features,\n",
    "                                            use_future_weather=True,\n",
    "                                            prediction_window = 24,\n",
    "                                            historical_window = 48)\n",
    "train_dataset.load_data()\n",
    "\n",
    "\n",
    "# Do the same for the test split\n",
    "test_dataset = DatasetRegistry.get_dataset(\"OPSDPVDataset\", start_date='2019-1-1 00:00:00',\n",
    "                                               selected_features=features,\n",
    "                                               use_future_weather=True, \n",
    "                                               prediction_window = 24,\n",
    "                                               historical_window = 48)\n",
    "test_dataset.load_data()   \n",
    "    "
   ],
   "id": "80f4e76bb781d0b6",
   "outputs": [],
   "execution_count": 1
  },
  {
   "metadata": {},
   "cell_type": "markdown",
   "source": "We can then get the loaders:",
   "id": "24bd475d21dd3d8a"
  },
  {
   "metadata": {
    "ExecuteTime": {
     "end_time": "2025-01-29T08:17:17.981745Z",
     "start_time": "2025-01-29T08:17:16.803328Z"
    }
   },
   "cell_type": "code",
   "source": [
    "import torch\n",
    "train_dataset_torch = train_dataset.to_pytorch()\n",
    "test_dataset_torch = test_dataset.to_pytorch()\n",
    "train_loader = torch.utils.data.DataLoader(dataset=train_dataset_torch,)\n",
    "test_loader = torch.utils.data.DataLoader(dataset=test_dataset_torch)"
   ],
   "id": "f0bc9f5b25a36408",
   "outputs": [],
   "execution_count": 2
  },
  {
   "metadata": {},
   "cell_type": "markdown",
   "source": "Then, we can define a simple network architecture:",
   "id": "6652299fecf164a"
  },
  {
   "metadata": {
    "ExecuteTime": {
     "end_time": "2025-01-29T08:17:18.074364Z",
     "start_time": "2025-01-29T08:17:18.071378Z"
    }
   },
   "cell_type": "code",
   "source": [
    "import torch.nn.functional as F\n",
    "import torch.nn as nn\n",
    "\n",
    "class MLPRegression(nn.Module):\n",
    "    def __init__(self, input_dim, output_dim=24, hidden_dim=64):\n",
    "        super(MLPRegression, self).__init__()\n",
    "        self.fc1 = nn.Linear(input_dim, hidden_dim)\n",
    "        self.fc2 = nn.Linear(hidden_dim, output_dim)\n",
    "    def forward(self, x):\n",
    "        x = x.view(x.size(0), -1)\n",
    "        x = self.fc1(x)\n",
    "        x = F.relu(x)\n",
    "        x = self.fc2(x)\n",
    "        return x\n",
    "    \n",
    "data_shape = train_dataset.get_features_shape()\n",
    "input_dim = data_shape[1]*data_shape[2]"
   ],
   "id": "e4f7f2ed853a8b56",
   "outputs": [],
   "execution_count": 3
  },
  {
   "metadata": {},
   "cell_type": "markdown",
   "source": "Let's define the training and inference functions:",
   "id": "379adb12a711b84d"
  },
  {
   "metadata": {
    "ExecuteTime": {
     "end_time": "2025-01-29T08:17:18.083290Z",
     "start_time": "2025-01-29T08:17:18.078345Z"
    }
   },
   "cell_type": "code",
   "source": [
    "device = 'cpu'\n",
    "def train_model(model, train_loader, optimizer, criterion, num_epochs=5):\n",
    "    model.train()\n",
    "    for epoch in range(num_epochs):\n",
    "        running_loss = 0.0\n",
    "        for inputs, labels in train_loader:\n",
    "            images, labels = inputs.to(device), labels.to(device)\n",
    "\n",
    "            # Forward pass\n",
    "            outputs = model(inputs)\n",
    "            if len(labels.size()) > 1:\n",
    "                labels = labels.squeeze(-1)\n",
    "            loss = criterion(outputs, labels)\n",
    "\n",
    "            # Backward pass and optimization\n",
    "            optimizer.zero_grad()\n",
    "            loss.backward()\n",
    "            optimizer.step()\n",
    "\n",
    "            running_loss += loss.item()\n",
    "        print(f'Epoch [{epoch + 1}/{num_epochs}], Loss: {running_loss / len(train_loader):.4f}')\n",
    "\n",
    "\n",
    "import torch\n",
    "import numpy as np\n",
    "def get_predictions(model, test_loader):\n",
    "  \n",
    "    model.eval()  \n",
    "    all_targets = []  \n",
    "    all_predictions = [] \n",
    "\n",
    "    with torch.no_grad():  # Disable gradient calculations\n",
    "        for inputs, labels in test_loader:\n",
    "            inputs, labels = inputs.to(device), labels.to(device)\n",
    "            outputs = model(inputs)  # Get model predictions\n",
    "            all_targets.extend(labels.cpu().tolist())\n",
    "            all_predictions.extend(outputs.cpu().tolist())\n",
    "    all_targets = np.array(all_targets).squeeze()\n",
    "    all_predictions = np.array(all_predictions).squeeze()\n",
    "    return  all_targets, all_predictions  # Return results\n"
   ],
   "id": "8337c932bb7a3c6",
   "outputs": [],
   "execution_count": 4
  },
  {
   "metadata": {},
   "cell_type": "markdown",
   "source": "Let's perform inference before training our model:",
   "id": "dbe6ca9c9a021c50"
  },
  {
   "metadata": {
    "ExecuteTime": {
     "end_time": "2025-01-29T08:17:18.586005Z",
     "start_time": "2025-01-29T08:17:18.088227Z"
    }
   },
   "cell_type": "code",
   "source": [
    "from sklearn.metrics import mean_squared_error, r2_score\n",
    "model = MLPRegression(input_dim, output_dim=24)\n",
    "\n",
    "gt, preds = get_predictions(model, test_loader)\n",
    "print(gt.shape, preds.shape)\n",
    "print(f\"R2: {r2_score(gt, preds)}\")\n",
    "print(f\"RMSE: {mean_squared_error(gt, preds)}\")"
   ],
   "id": "80d0636824881cf5",
   "outputs": [
    {
     "name": "stdout",
     "output_type": "stream",
     "text": [
      "(1446, 24) (1446, 24)\n",
      "R2: -0.5738519599899988\n",
      "RMSE: 506752.44333347265\n"
     ]
    }
   ],
   "execution_count": 5
  },
  {
   "metadata": {},
   "cell_type": "markdown",
   "source": "We can then train our model. Note that we can also use a custom loss to this end:",
   "id": "9affbde65ee06e11"
  },
  {
   "metadata": {
    "ExecuteTime": {
     "end_time": "2025-01-29T08:17:32.276427Z",
     "start_time": "2025-01-29T08:17:18.592425Z"
    }
   },
   "cell_type": "code",
   "source": [
    "import torch.optim as optim\n",
    "\n",
    "\n",
    "def custom_loss(x, y):\n",
    "    return torch.mean((x-y)**2) + torch.mean(torch.abs(x-y))\n",
    "\n",
    "optimizer = optim.AdamW(model.parameters(), lr=0.0001, weight_decay=0.1)\n",
    "\n",
    "train_model(model, train_loader, optimizer, custom_loss, num_epochs=5)"
   ],
   "id": "501c3350df925ccc",
   "outputs": [
    {
     "name": "stdout",
     "output_type": "stream",
     "text": [
      "Epoch [1/5], Loss: 46564.6437\n",
      "Epoch [2/5], Loss: 16911.6601\n",
      "Epoch [3/5], Loss: 14796.3264\n",
      "Epoch [4/5], Loss: 14074.8644\n",
      "Epoch [5/5], Loss: 13685.8613\n"
     ]
    }
   ],
   "execution_count": 6
  },
  {
   "metadata": {},
   "cell_type": "markdown",
   "source": "We can then re-evaluate our model:",
   "id": "e7d9da7fa5405f13"
  },
  {
   "metadata": {
    "ExecuteTime": {
     "end_time": "2025-01-29T08:17:32.526339Z",
     "start_time": "2025-01-29T08:17:32.283645Z"
    }
   },
   "cell_type": "code",
   "source": [
    "gt, preds = get_predictions(model, test_loader)\n",
    "print(gt.shape, preds.shape)\n",
    "print(f\"R2: {r2_score(gt, preds)}\")\n",
    "print(f\"RMSE: {mean_squared_error(gt, preds)}\")"
   ],
   "id": "d88240fbfc0241e3",
   "outputs": [
    {
     "name": "stdout",
     "output_type": "stream",
     "text": [
      "(1446, 24) (1446, 24)\n",
      "R2: 0.8759161607135821\n",
      "RMSE: 41157.43177438994\n"
     ]
    }
   ],
   "execution_count": 7
  },
  {
   "metadata": {},
   "cell_type": "markdown",
   "source": "We can similarly use a recurrent model:",
   "id": "92e4b60e7957cc04"
  },
  {
   "metadata": {
    "ExecuteTime": {
     "end_time": "2025-01-29T08:17:32.537421Z",
     "start_time": "2025-01-29T08:17:32.533278Z"
    }
   },
   "cell_type": "code",
   "source": [
    "class RecurrentRegression(nn.Module):\n",
    "    def __init__(self, input_dim, output_dim=24, hidden_dim=64, num_layers=2):\n",
    "        super(RecurrentRegression, self).__init__()\n",
    "        \n",
    "        self.hidden_dim = hidden_dim\n",
    "        self.num_layers = num_layers\n",
    "        self.lstm = nn.LSTM(input_dim, hidden_dim, num_layers, batch_first=True)\n",
    "        self.fc = nn.Linear(hidden_dim, output_dim)\n",
    "\n",
    "    def forward(self, x):\n",
    "        x = x.transpose(2, 1)\n",
    "        batch_size = x.size(0)\n",
    "\n",
    "        h0 = torch.zeros(self.num_layers, batch_size, self.hidden_dim).to(x.device) \n",
    "        c0 = torch.zeros(self.num_layers, batch_size, self.hidden_dim).to(x.device) \n",
    "\n",
    "        out, _ = self.lstm(x, (h0, c0))  \n",
    "        out = out[:, -1, :]  \n",
    "        out = self.fc(out)\n",
    "        \n",
    "        return out"
   ],
   "id": "f4247d5a0727dc73",
   "outputs": [],
   "execution_count": 8
  },
  {
   "metadata": {
    "ExecuteTime": {
     "end_time": "2025-01-29T08:18:07.671707Z",
     "start_time": "2025-01-29T08:17:32.551759Z"
    }
   },
   "cell_type": "code",
   "source": [
    "model = RecurrentRegression(data_shape[1])\n",
    "\n",
    "# Train the model:\n",
    "optimizer = optim.AdamW(model.parameters(), lr=0.0001, weight_decay=0.1)\n",
    "\n",
    "train_model(model, train_loader, optimizer, custom_loss, num_epochs=5)\n",
    "\n",
    "# Evaluate the model\n",
    "gt, preds = get_predictions(model, test_loader)\n",
    "print(gt.shape, preds.shape)\n",
    "print(f\"R2: {r2_score(gt, preds)}\")\n",
    "print(f\"RMSE: {mean_squared_error(gt, preds)}\")\n"
   ],
   "id": "bf3338c174b9153b",
   "outputs": [
    {
     "name": "stdout",
     "output_type": "stream",
     "text": [
      "Epoch [1/5], Loss: 456502.6960\n",
      "Epoch [2/5], Loss: 443975.9441\n",
      "Epoch [3/5], Loss: 433027.0965\n",
      "Epoch [4/5], Loss: 423279.9442\n",
      "Epoch [5/5], Loss: 414596.2825\n",
      "(1446, 24) (1446, 24)\n",
      "R2: -0.36282257097712717\n",
      "RMSE: 440125.3380877734\n"
     ]
    }
   ],
   "execution_count": 9
  },
  {
   "metadata": {
    "ExecuteTime": {
     "end_time": "2025-01-29T08:18:07.679879Z",
     "start_time": "2025-01-29T08:18:07.677873Z"
    }
   },
   "cell_type": "code",
   "source": "",
   "id": "2a3886ac545e61a9",
   "outputs": [],
   "execution_count": null
  },
  {
   "metadata": {},
   "cell_type": "markdown",
   "source": "What about adding a residual branch to combine both models?",
   "id": "af121d9d27e7b0ef"
  },
  {
   "metadata": {
    "ExecuteTime": {
     "end_time": "2025-01-29T08:18:07.689862Z",
     "start_time": "2025-01-29T08:18:07.685854Z"
    }
   },
   "cell_type": "code",
   "source": [
    "class RecurrentRegression(nn.Module):\n",
    "    def __init__(self, input_dim, flatten_dim, output_dim=24, hidden_dim=64, num_layers=2):\n",
    "        super(RecurrentRegression, self).__init__()\n",
    "        \n",
    "        self.hidden_dim = hidden_dim\n",
    "        self.num_layers = num_layers\n",
    "        self.lstm = nn.LSTM(input_dim, hidden_dim, num_layers, batch_first=True)\n",
    "        self.fc = nn.Linear(hidden_dim, output_dim)\n",
    "        self.fc1 = nn.Linear(flatten_dim, hidden_dim)\n",
    "        self.fc2 = nn.Linear(hidden_dim, output_dim)\n",
    "\n",
    "    def forward(self, x):\n",
    "        x = x.transpose(2, 1)\n",
    "        batch_size = x.size(0)\n",
    "\n",
    "        h0 = torch.zeros(self.num_layers, batch_size, self.hidden_dim).to(x.device) \n",
    "        c0 = torch.zeros(self.num_layers, batch_size, self.hidden_dim).to(x.device) \n",
    "\n",
    "        out, _ = self.lstm(x, (h0, c0))  \n",
    "        out = out[:, -1, :]  \n",
    "        out = self.fc(out)\n",
    "        \n",
    "        # Residual branch\n",
    "        x = x.reshape(x.size(0), -1)\n",
    "        x = self.fc1(x)\n",
    "        x = F.relu(x)\n",
    "        x = self.fc2(x)\n",
    "        out = out + x\n",
    "        \n",
    "        return out\n",
    "    \n",
    "    "
   ],
   "id": "1e1cf8bf630fb450",
   "outputs": [],
   "execution_count": 10
  },
  {
   "metadata": {
    "ExecuteTime": {
     "end_time": "2025-01-29T08:18:46.400605Z",
     "start_time": "2025-01-29T08:18:07.696104Z"
    }
   },
   "cell_type": "code",
   "source": [
    "model = RecurrentRegression(data_shape[1], data_shape[1]*data_shape[2])\n",
    "\n",
    "# Train the model:\n",
    "optimizer = optim.AdamW(model.parameters(), lr=0.0001, weight_decay=0.1)\n",
    "\n",
    "train_model(model, train_loader, optimizer, custom_loss, num_epochs=5)\n",
    "\n",
    "# Evaluate the model\n",
    "gt, preds = get_predictions(model, test_loader)\n",
    "print(gt.shape, preds.shape)\n",
    "print(f\"R2: {r2_score(gt, preds)}\")\n",
    "print(f\"RMSE: {mean_squared_error(gt, preds)}\")"
   ],
   "id": "376f0d6de6d03a6c",
   "outputs": [
    {
     "name": "stdout",
     "output_type": "stream",
     "text": [
      "Epoch [1/5], Loss: 44696.5734\n",
      "Epoch [2/5], Loss: 17062.8541\n",
      "Epoch [3/5], Loss: 14771.4083\n",
      "Epoch [4/5], Loss: 14000.6203\n",
      "Epoch [5/5], Loss: 13594.2798\n",
      "(1446, 24) (1446, 24)\n",
      "R2: 0.8843016889758161\n",
      "RMSE: 38295.84600041278\n"
     ]
    }
   ],
   "execution_count": 11
  }
 ],
 "metadata": {
  "kernelspec": {
   "display_name": "Python 3",
   "language": "python",
   "name": "python3"
  },
  "language_info": {
   "codemirror_mode": {
    "name": "ipython",
    "version": 2
   },
   "file_extension": ".py",
   "mimetype": "text/x-python",
   "name": "python",
   "nbconvert_exporter": "python",
   "pygments_lexer": "ipython2",
   "version": "2.7.6"
  }
 },
 "nbformat": 4,
 "nbformat_minor": 5
}
